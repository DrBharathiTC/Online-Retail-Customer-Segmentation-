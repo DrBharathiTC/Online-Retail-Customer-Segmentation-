{
  "nbformat": 4,
  "nbformat_minor": 0,
  "metadata": {
    "kernelspec": {
      "display_name": "Python 3",
      "language": "python",
      "name": "python3"
    },
    "language_info": {
      "codemirror_mode": {
        "name": "ipython",
        "version": 3
      },
      "file_extension": ".py",
      "mimetype": "text/x-python",
      "name": "python",
      "nbconvert_exporter": "python",
      "pygments_lexer": "ipython3",
      "version": "3.6.6"
    },
    "colab": {
      "provenance": [],
      "include_colab_link": true
    }
  },
  "cells": [
    {
      "cell_type": "markdown",
      "metadata": {
        "id": "view-in-github",
        "colab_type": "text"
      },
      "source": [
        "<a href=\"https://colab.research.google.com/github/DrBharathiTC/Online-Retail-Customer-Segmentation-/blob/main/Online_Retail_Customer_Segmentation_Capstone_Project.ipynb\" target=\"_parent\"><img src=\"https://colab.research.google.com/assets/colab-badge.svg\" alt=\"Open In Colab\"/></a>"
      ]
    },
    {
      "cell_type": "markdown",
      "metadata": {
        "id": "tOGC-qoyhJeX"
      },
      "source": [
        "# <b><u> Project Title : Extraction/identification of major topics & themes discussed in news articles. </u></b>"
      ]
    },
    {
      "cell_type": "markdown",
      "metadata": {
        "id": "Y06xIdG26kRF"
      },
      "source": [
        "## <b> Problem Description </b>\n",
        "\n",
        "### In this project, your task is to identify major customer segments on a transnational data set which contains all the transactions occurring between 01/12/2010 and 09/12/2011 for a UK-based and registered non-store online retail.The company mainly sells unique all-occasion gifts. Many customers of the company are wholesalers."
      ]
    },
    {
      "cell_type": "markdown",
      "metadata": {
        "id": "AlLxAtlziMbP"
      },
      "source": [
        "## <b> Data Description </b>\n",
        "\n",
        "### <b>Attribute Information: </b>\n",
        "\n",
        "* ### InvoiceNo: Invoice number. Nominal, a 6-digit integral number uniquely assigned to each transaction. If this code starts with letter 'c', it indicates a cancellation.\n",
        "* ### StockCode: Product (item) code. Nominal, a 5-digit integral number uniquely assigned to each distinct product.\n",
        "* ### Description: Product (item) name. Nominal.\n",
        "* ### Quantity: The quantities of each product (item) per transaction. Numeric.\n",
        "* ### InvoiceDate: Invice Date and time. Numeric, the day and time when each transaction was generated.\n",
        "* ### UnitPrice: Unit price. Numeric, Product price per unit in sterling.\n",
        "* ### CustomerID: Customer number. Nominal, a 5-digit integral number uniquely assigned to each customer.\n",
        "* ### Country: Country name. Nominal, the name of the country where each customer resides."
      ]
    },
    {
      "cell_type": "code",
      "metadata": {
        "id": "dByMsuzT8Tnw"
      },
      "source": [
        "import numpy as np\n",
        "import pandas as pd\n",
        "from numpy import math\n",
        "import seaborn as sns\n",
        "from datetime import datetime\n",
        "from sklearn.cluster import AgglomerativeClustering\n",
        "\n",
        "import warnings\n",
        "from pylab import rcParams\n",
        "%matplotlib inline\n",
        "import matplotlib.pyplot as plt\n",
        "import seaborn as sns; sns.set()\n",
        "warnings.filterwarnings('ignore')"
      ],
      "execution_count": null,
      "outputs": []
    },
    {
      "cell_type": "code",
      "source": [
        "from google.colab import drive\n",
        "drive.mount('/content/drive')"
      ],
      "metadata": {
        "colab": {
          "base_uri": "https://localhost:8080/"
        },
        "id": "Pcsi-uWonPEj",
        "outputId": "89421b43-0142-4e68-b243-b7c7e333db32"
      },
      "execution_count": null,
      "outputs": [
        {
          "output_type": "stream",
          "name": "stdout",
          "text": [
            "Drive already mounted at /content/drive; to attempt to forcibly remount, call drive.mount(\"/content/drive\", force_remount=True).\n"
          ]
        }
      ]
    },
    {
      "cell_type": "code",
      "source": [
        "orcs = pd.read_excel('/content/drive/My Drive/almabetter projects/Customer Segmentation/Online Retail.xlsx')"
      ],
      "metadata": {
        "id": "31k4b-27J90_"
      },
      "execution_count": null,
      "outputs": []
    },
    {
      "cell_type": "code",
      "source": [
        "orcs.head(1000)"
      ],
      "metadata": {
        "colab": {
          "base_uri": "https://localhost:8080/",
          "height": 423
        },
        "id": "3hVrxMUPIpmn",
        "outputId": "0dfef5ca-a915-40c5-a948-86c0f14d32df"
      },
      "execution_count": null,
      "outputs": [
        {
          "output_type": "execute_result",
          "data": {
            "text/plain": [
              "    InvoiceNo StockCode                          Description  Quantity  \\\n",
              "0      536365    85123A   WHITE HANGING HEART T-LIGHT HOLDER         6   \n",
              "1      536365     71053                  WHITE METAL LANTERN         6   \n",
              "2      536365    84406B       CREAM CUPID HEARTS COAT HANGER         8   \n",
              "3      536365    84029G  KNITTED UNION FLAG HOT WATER BOTTLE         6   \n",
              "4      536365    84029E       RED WOOLLY HOTTIE WHITE HEART.         6   \n",
              "..        ...       ...                                  ...       ...   \n",
              "995    536520     22469                HEART OF WICKER SMALL         1   \n",
              "996    536520     22100             SKULLS SQUARE TISSUE BOX         1   \n",
              "997    536520     22096      PINK PAISLEY SQUARE TISSUE BOX          1   \n",
              "998    536520     22583         PACK OF 6 HANDBAG GIFT BOXES         1   \n",
              "999    536520     21358           TOAST ITS - HAPPY BIRTHDAY         2   \n",
              "\n",
              "            InvoiceDate  UnitPrice  CustomerID         Country  \n",
              "0   2010-12-01 08:26:00       2.55     17850.0  United Kingdom  \n",
              "1   2010-12-01 08:26:00       3.39     17850.0  United Kingdom  \n",
              "2   2010-12-01 08:26:00       2.75     17850.0  United Kingdom  \n",
              "3   2010-12-01 08:26:00       3.39     17850.0  United Kingdom  \n",
              "4   2010-12-01 08:26:00       3.39     17850.0  United Kingdom  \n",
              "..                  ...        ...         ...             ...  \n",
              "995 2010-12-01 12:43:00       1.65     14729.0  United Kingdom  \n",
              "996 2010-12-01 12:43:00       1.25     14729.0  United Kingdom  \n",
              "997 2010-12-01 12:43:00       1.25     14729.0  United Kingdom  \n",
              "998 2010-12-01 12:43:00       2.55     14729.0  United Kingdom  \n",
              "999 2010-12-01 12:43:00       1.25     14729.0  United Kingdom  \n",
              "\n",
              "[1000 rows x 8 columns]"
            ],
            "text/html": [
              "\n",
              "  <div id=\"df-04595c4a-2f3c-4eb4-a19e-d74d545a7cb2\">\n",
              "    <div class=\"colab-df-container\">\n",
              "      <div>\n",
              "<style scoped>\n",
              "    .dataframe tbody tr th:only-of-type {\n",
              "        vertical-align: middle;\n",
              "    }\n",
              "\n",
              "    .dataframe tbody tr th {\n",
              "        vertical-align: top;\n",
              "    }\n",
              "\n",
              "    .dataframe thead th {\n",
              "        text-align: right;\n",
              "    }\n",
              "</style>\n",
              "<table border=\"1\" class=\"dataframe\">\n",
              "  <thead>\n",
              "    <tr style=\"text-align: right;\">\n",
              "      <th></th>\n",
              "      <th>InvoiceNo</th>\n",
              "      <th>StockCode</th>\n",
              "      <th>Description</th>\n",
              "      <th>Quantity</th>\n",
              "      <th>InvoiceDate</th>\n",
              "      <th>UnitPrice</th>\n",
              "      <th>CustomerID</th>\n",
              "      <th>Country</th>\n",
              "    </tr>\n",
              "  </thead>\n",
              "  <tbody>\n",
              "    <tr>\n",
              "      <th>0</th>\n",
              "      <td>536365</td>\n",
              "      <td>85123A</td>\n",
              "      <td>WHITE HANGING HEART T-LIGHT HOLDER</td>\n",
              "      <td>6</td>\n",
              "      <td>2010-12-01 08:26:00</td>\n",
              "      <td>2.55</td>\n",
              "      <td>17850.0</td>\n",
              "      <td>United Kingdom</td>\n",
              "    </tr>\n",
              "    <tr>\n",
              "      <th>1</th>\n",
              "      <td>536365</td>\n",
              "      <td>71053</td>\n",
              "      <td>WHITE METAL LANTERN</td>\n",
              "      <td>6</td>\n",
              "      <td>2010-12-01 08:26:00</td>\n",
              "      <td>3.39</td>\n",
              "      <td>17850.0</td>\n",
              "      <td>United Kingdom</td>\n",
              "    </tr>\n",
              "    <tr>\n",
              "      <th>2</th>\n",
              "      <td>536365</td>\n",
              "      <td>84406B</td>\n",
              "      <td>CREAM CUPID HEARTS COAT HANGER</td>\n",
              "      <td>8</td>\n",
              "      <td>2010-12-01 08:26:00</td>\n",
              "      <td>2.75</td>\n",
              "      <td>17850.0</td>\n",
              "      <td>United Kingdom</td>\n",
              "    </tr>\n",
              "    <tr>\n",
              "      <th>3</th>\n",
              "      <td>536365</td>\n",
              "      <td>84029G</td>\n",
              "      <td>KNITTED UNION FLAG HOT WATER BOTTLE</td>\n",
              "      <td>6</td>\n",
              "      <td>2010-12-01 08:26:00</td>\n",
              "      <td>3.39</td>\n",
              "      <td>17850.0</td>\n",
              "      <td>United Kingdom</td>\n",
              "    </tr>\n",
              "    <tr>\n",
              "      <th>4</th>\n",
              "      <td>536365</td>\n",
              "      <td>84029E</td>\n",
              "      <td>RED WOOLLY HOTTIE WHITE HEART.</td>\n",
              "      <td>6</td>\n",
              "      <td>2010-12-01 08:26:00</td>\n",
              "      <td>3.39</td>\n",
              "      <td>17850.0</td>\n",
              "      <td>United Kingdom</td>\n",
              "    </tr>\n",
              "    <tr>\n",
              "      <th>...</th>\n",
              "      <td>...</td>\n",
              "      <td>...</td>\n",
              "      <td>...</td>\n",
              "      <td>...</td>\n",
              "      <td>...</td>\n",
              "      <td>...</td>\n",
              "      <td>...</td>\n",
              "      <td>...</td>\n",
              "    </tr>\n",
              "    <tr>\n",
              "      <th>995</th>\n",
              "      <td>536520</td>\n",
              "      <td>22469</td>\n",
              "      <td>HEART OF WICKER SMALL</td>\n",
              "      <td>1</td>\n",
              "      <td>2010-12-01 12:43:00</td>\n",
              "      <td>1.65</td>\n",
              "      <td>14729.0</td>\n",
              "      <td>United Kingdom</td>\n",
              "    </tr>\n",
              "    <tr>\n",
              "      <th>996</th>\n",
              "      <td>536520</td>\n",
              "      <td>22100</td>\n",
              "      <td>SKULLS SQUARE TISSUE BOX</td>\n",
              "      <td>1</td>\n",
              "      <td>2010-12-01 12:43:00</td>\n",
              "      <td>1.25</td>\n",
              "      <td>14729.0</td>\n",
              "      <td>United Kingdom</td>\n",
              "    </tr>\n",
              "    <tr>\n",
              "      <th>997</th>\n",
              "      <td>536520</td>\n",
              "      <td>22096</td>\n",
              "      <td>PINK PAISLEY SQUARE TISSUE BOX</td>\n",
              "      <td>1</td>\n",
              "      <td>2010-12-01 12:43:00</td>\n",
              "      <td>1.25</td>\n",
              "      <td>14729.0</td>\n",
              "      <td>United Kingdom</td>\n",
              "    </tr>\n",
              "    <tr>\n",
              "      <th>998</th>\n",
              "      <td>536520</td>\n",
              "      <td>22583</td>\n",
              "      <td>PACK OF 6 HANDBAG GIFT BOXES</td>\n",
              "      <td>1</td>\n",
              "      <td>2010-12-01 12:43:00</td>\n",
              "      <td>2.55</td>\n",
              "      <td>14729.0</td>\n",
              "      <td>United Kingdom</td>\n",
              "    </tr>\n",
              "    <tr>\n",
              "      <th>999</th>\n",
              "      <td>536520</td>\n",
              "      <td>21358</td>\n",
              "      <td>TOAST ITS - HAPPY BIRTHDAY</td>\n",
              "      <td>2</td>\n",
              "      <td>2010-12-01 12:43:00</td>\n",
              "      <td>1.25</td>\n",
              "      <td>14729.0</td>\n",
              "      <td>United Kingdom</td>\n",
              "    </tr>\n",
              "  </tbody>\n",
              "</table>\n",
              "<p>1000 rows × 8 columns</p>\n",
              "</div>\n",
              "      <button class=\"colab-df-convert\" onclick=\"convertToInteractive('df-04595c4a-2f3c-4eb4-a19e-d74d545a7cb2')\"\n",
              "              title=\"Convert this dataframe to an interactive table.\"\n",
              "              style=\"display:none;\">\n",
              "        \n",
              "  <svg xmlns=\"http://www.w3.org/2000/svg\" height=\"24px\"viewBox=\"0 0 24 24\"\n",
              "       width=\"24px\">\n",
              "    <path d=\"M0 0h24v24H0V0z\" fill=\"none\"/>\n",
              "    <path d=\"M18.56 5.44l.94 2.06.94-2.06 2.06-.94-2.06-.94-.94-2.06-.94 2.06-2.06.94zm-11 1L8.5 8.5l.94-2.06 2.06-.94-2.06-.94L8.5 2.5l-.94 2.06-2.06.94zm10 10l.94 2.06.94-2.06 2.06-.94-2.06-.94-.94-2.06-.94 2.06-2.06.94z\"/><path d=\"M17.41 7.96l-1.37-1.37c-.4-.4-.92-.59-1.43-.59-.52 0-1.04.2-1.43.59L10.3 9.45l-7.72 7.72c-.78.78-.78 2.05 0 2.83L4 21.41c.39.39.9.59 1.41.59.51 0 1.02-.2 1.41-.59l7.78-7.78 2.81-2.81c.8-.78.8-2.07 0-2.86zM5.41 20L4 18.59l7.72-7.72 1.47 1.35L5.41 20z\"/>\n",
              "  </svg>\n",
              "      </button>\n",
              "      \n",
              "  <style>\n",
              "    .colab-df-container {\n",
              "      display:flex;\n",
              "      flex-wrap:wrap;\n",
              "      gap: 12px;\n",
              "    }\n",
              "\n",
              "    .colab-df-convert {\n",
              "      background-color: #E8F0FE;\n",
              "      border: none;\n",
              "      border-radius: 50%;\n",
              "      cursor: pointer;\n",
              "      display: none;\n",
              "      fill: #1967D2;\n",
              "      height: 32px;\n",
              "      padding: 0 0 0 0;\n",
              "      width: 32px;\n",
              "    }\n",
              "\n",
              "    .colab-df-convert:hover {\n",
              "      background-color: #E2EBFA;\n",
              "      box-shadow: 0px 1px 2px rgba(60, 64, 67, 0.3), 0px 1px 3px 1px rgba(60, 64, 67, 0.15);\n",
              "      fill: #174EA6;\n",
              "    }\n",
              "\n",
              "    [theme=dark] .colab-df-convert {\n",
              "      background-color: #3B4455;\n",
              "      fill: #D2E3FC;\n",
              "    }\n",
              "\n",
              "    [theme=dark] .colab-df-convert:hover {\n",
              "      background-color: #434B5C;\n",
              "      box-shadow: 0px 1px 3px 1px rgba(0, 0, 0, 0.15);\n",
              "      filter: drop-shadow(0px 1px 2px rgba(0, 0, 0, 0.3));\n",
              "      fill: #FFFFFF;\n",
              "    }\n",
              "  </style>\n",
              "\n",
              "      <script>\n",
              "        const buttonEl =\n",
              "          document.querySelector('#df-04595c4a-2f3c-4eb4-a19e-d74d545a7cb2 button.colab-df-convert');\n",
              "        buttonEl.style.display =\n",
              "          google.colab.kernel.accessAllowed ? 'block' : 'none';\n",
              "\n",
              "        async function convertToInteractive(key) {\n",
              "          const element = document.querySelector('#df-04595c4a-2f3c-4eb4-a19e-d74d545a7cb2');\n",
              "          const dataTable =\n",
              "            await google.colab.kernel.invokeFunction('convertToInteractive',\n",
              "                                                     [key], {});\n",
              "          if (!dataTable) return;\n",
              "\n",
              "          const docLinkHtml = 'Like what you see? Visit the ' +\n",
              "            '<a target=\"_blank\" href=https://colab.research.google.com/notebooks/data_table.ipynb>data table notebook</a>'\n",
              "            + ' to learn more about interactive tables.';\n",
              "          element.innerHTML = '';\n",
              "          dataTable['output_type'] = 'display_data';\n",
              "          await google.colab.output.renderOutput(dataTable, element);\n",
              "          const docLink = document.createElement('div');\n",
              "          docLink.innerHTML = docLinkHtml;\n",
              "          element.appendChild(docLink);\n",
              "        }\n",
              "      </script>\n",
              "    </div>\n",
              "  </div>\n",
              "  "
            ]
          },
          "metadata": {},
          "execution_count": 29
        }
      ]
    },
    {
      "cell_type": "code",
      "source": [
        "orcs.info()"
      ],
      "metadata": {
        "colab": {
          "base_uri": "https://localhost:8080/"
        },
        "id": "S6jDp1x_IxH1",
        "outputId": "7f4c33a0-c890-4fdd-e480-ff09c69260c6"
      },
      "execution_count": null,
      "outputs": [
        {
          "output_type": "stream",
          "name": "stdout",
          "text": [
            "<class 'pandas.core.frame.DataFrame'>\n",
            "RangeIndex: 541909 entries, 0 to 541908\n",
            "Data columns (total 8 columns):\n",
            " #   Column       Non-Null Count   Dtype         \n",
            "---  ------       --------------   -----         \n",
            " 0   InvoiceNo    541909 non-null  object        \n",
            " 1   StockCode    541909 non-null  object        \n",
            " 2   Description  540455 non-null  object        \n",
            " 3   Quantity     541909 non-null  int64         \n",
            " 4   InvoiceDate  541909 non-null  datetime64[ns]\n",
            " 5   UnitPrice    541909 non-null  float64       \n",
            " 6   CustomerID   406829 non-null  float64       \n",
            " 7   Country      541909 non-null  object        \n",
            "dtypes: datetime64[ns](1), float64(2), int64(1), object(4)\n",
            "memory usage: 33.1+ MB\n"
          ]
        }
      ]
    },
    {
      "cell_type": "code",
      "source": [
        "orcs.shape"
      ],
      "metadata": {
        "colab": {
          "base_uri": "https://localhost:8080/"
        },
        "id": "a6qnKPQBLPSi",
        "outputId": "2c6b27a9-5aa9-42df-f9b5-93aacdeab822"
      },
      "execution_count": null,
      "outputs": [
        {
          "output_type": "execute_result",
          "data": {
            "text/plain": [
              "(541909, 8)"
            ]
          },
          "metadata": {},
          "execution_count": 31
        }
      ]
    },
    {
      "cell_type": "code",
      "source": [
        "orcs.describe()"
      ],
      "metadata": {
        "colab": {
          "base_uri": "https://localhost:8080/",
          "height": 300
        },
        "id": "2g7eo8UKLjIC",
        "outputId": "fbcb7651-ce79-4374-be59-71bdb354a6ae"
      },
      "execution_count": null,
      "outputs": [
        {
          "output_type": "execute_result",
          "data": {
            "text/plain": [
              "            Quantity      UnitPrice     CustomerID\n",
              "count  541909.000000  541909.000000  406829.000000\n",
              "mean        9.552250       4.611114   15287.690570\n",
              "std       218.081158      96.759853    1713.600303\n",
              "min    -80995.000000  -11062.060000   12346.000000\n",
              "25%         1.000000       1.250000   13953.000000\n",
              "50%         3.000000       2.080000   15152.000000\n",
              "75%        10.000000       4.130000   16791.000000\n",
              "max     80995.000000   38970.000000   18287.000000"
            ],
            "text/html": [
              "\n",
              "  <div id=\"df-34965b82-cf67-4c0a-b7d7-2dfd611adcfd\">\n",
              "    <div class=\"colab-df-container\">\n",
              "      <div>\n",
              "<style scoped>\n",
              "    .dataframe tbody tr th:only-of-type {\n",
              "        vertical-align: middle;\n",
              "    }\n",
              "\n",
              "    .dataframe tbody tr th {\n",
              "        vertical-align: top;\n",
              "    }\n",
              "\n",
              "    .dataframe thead th {\n",
              "        text-align: right;\n",
              "    }\n",
              "</style>\n",
              "<table border=\"1\" class=\"dataframe\">\n",
              "  <thead>\n",
              "    <tr style=\"text-align: right;\">\n",
              "      <th></th>\n",
              "      <th>Quantity</th>\n",
              "      <th>UnitPrice</th>\n",
              "      <th>CustomerID</th>\n",
              "    </tr>\n",
              "  </thead>\n",
              "  <tbody>\n",
              "    <tr>\n",
              "      <th>count</th>\n",
              "      <td>541909.000000</td>\n",
              "      <td>541909.000000</td>\n",
              "      <td>406829.000000</td>\n",
              "    </tr>\n",
              "    <tr>\n",
              "      <th>mean</th>\n",
              "      <td>9.552250</td>\n",
              "      <td>4.611114</td>\n",
              "      <td>15287.690570</td>\n",
              "    </tr>\n",
              "    <tr>\n",
              "      <th>std</th>\n",
              "      <td>218.081158</td>\n",
              "      <td>96.759853</td>\n",
              "      <td>1713.600303</td>\n",
              "    </tr>\n",
              "    <tr>\n",
              "      <th>min</th>\n",
              "      <td>-80995.000000</td>\n",
              "      <td>-11062.060000</td>\n",
              "      <td>12346.000000</td>\n",
              "    </tr>\n",
              "    <tr>\n",
              "      <th>25%</th>\n",
              "      <td>1.000000</td>\n",
              "      <td>1.250000</td>\n",
              "      <td>13953.000000</td>\n",
              "    </tr>\n",
              "    <tr>\n",
              "      <th>50%</th>\n",
              "      <td>3.000000</td>\n",
              "      <td>2.080000</td>\n",
              "      <td>15152.000000</td>\n",
              "    </tr>\n",
              "    <tr>\n",
              "      <th>75%</th>\n",
              "      <td>10.000000</td>\n",
              "      <td>4.130000</td>\n",
              "      <td>16791.000000</td>\n",
              "    </tr>\n",
              "    <tr>\n",
              "      <th>max</th>\n",
              "      <td>80995.000000</td>\n",
              "      <td>38970.000000</td>\n",
              "      <td>18287.000000</td>\n",
              "    </tr>\n",
              "  </tbody>\n",
              "</table>\n",
              "</div>\n",
              "      <button class=\"colab-df-convert\" onclick=\"convertToInteractive('df-34965b82-cf67-4c0a-b7d7-2dfd611adcfd')\"\n",
              "              title=\"Convert this dataframe to an interactive table.\"\n",
              "              style=\"display:none;\">\n",
              "        \n",
              "  <svg xmlns=\"http://www.w3.org/2000/svg\" height=\"24px\"viewBox=\"0 0 24 24\"\n",
              "       width=\"24px\">\n",
              "    <path d=\"M0 0h24v24H0V0z\" fill=\"none\"/>\n",
              "    <path d=\"M18.56 5.44l.94 2.06.94-2.06 2.06-.94-2.06-.94-.94-2.06-.94 2.06-2.06.94zm-11 1L8.5 8.5l.94-2.06 2.06-.94-2.06-.94L8.5 2.5l-.94 2.06-2.06.94zm10 10l.94 2.06.94-2.06 2.06-.94-2.06-.94-.94-2.06-.94 2.06-2.06.94z\"/><path d=\"M17.41 7.96l-1.37-1.37c-.4-.4-.92-.59-1.43-.59-.52 0-1.04.2-1.43.59L10.3 9.45l-7.72 7.72c-.78.78-.78 2.05 0 2.83L4 21.41c.39.39.9.59 1.41.59.51 0 1.02-.2 1.41-.59l7.78-7.78 2.81-2.81c.8-.78.8-2.07 0-2.86zM5.41 20L4 18.59l7.72-7.72 1.47 1.35L5.41 20z\"/>\n",
              "  </svg>\n",
              "      </button>\n",
              "      \n",
              "  <style>\n",
              "    .colab-df-container {\n",
              "      display:flex;\n",
              "      flex-wrap:wrap;\n",
              "      gap: 12px;\n",
              "    }\n",
              "\n",
              "    .colab-df-convert {\n",
              "      background-color: #E8F0FE;\n",
              "      border: none;\n",
              "      border-radius: 50%;\n",
              "      cursor: pointer;\n",
              "      display: none;\n",
              "      fill: #1967D2;\n",
              "      height: 32px;\n",
              "      padding: 0 0 0 0;\n",
              "      width: 32px;\n",
              "    }\n",
              "\n",
              "    .colab-df-convert:hover {\n",
              "      background-color: #E2EBFA;\n",
              "      box-shadow: 0px 1px 2px rgba(60, 64, 67, 0.3), 0px 1px 3px 1px rgba(60, 64, 67, 0.15);\n",
              "      fill: #174EA6;\n",
              "    }\n",
              "\n",
              "    [theme=dark] .colab-df-convert {\n",
              "      background-color: #3B4455;\n",
              "      fill: #D2E3FC;\n",
              "    }\n",
              "\n",
              "    [theme=dark] .colab-df-convert:hover {\n",
              "      background-color: #434B5C;\n",
              "      box-shadow: 0px 1px 3px 1px rgba(0, 0, 0, 0.15);\n",
              "      filter: drop-shadow(0px 1px 2px rgba(0, 0, 0, 0.3));\n",
              "      fill: #FFFFFF;\n",
              "    }\n",
              "  </style>\n",
              "\n",
              "      <script>\n",
              "        const buttonEl =\n",
              "          document.querySelector('#df-34965b82-cf67-4c0a-b7d7-2dfd611adcfd button.colab-df-convert');\n",
              "        buttonEl.style.display =\n",
              "          google.colab.kernel.accessAllowed ? 'block' : 'none';\n",
              "\n",
              "        async function convertToInteractive(key) {\n",
              "          const element = document.querySelector('#df-34965b82-cf67-4c0a-b7d7-2dfd611adcfd');\n",
              "          const dataTable =\n",
              "            await google.colab.kernel.invokeFunction('convertToInteractive',\n",
              "                                                     [key], {});\n",
              "          if (!dataTable) return;\n",
              "\n",
              "          const docLinkHtml = 'Like what you see? Visit the ' +\n",
              "            '<a target=\"_blank\" href=https://colab.research.google.com/notebooks/data_table.ipynb>data table notebook</a>'\n",
              "            + ' to learn more about interactive tables.';\n",
              "          element.innerHTML = '';\n",
              "          dataTable['output_type'] = 'display_data';\n",
              "          await google.colab.output.renderOutput(dataTable, element);\n",
              "          const docLink = document.createElement('div');\n",
              "          docLink.innerHTML = docLinkHtml;\n",
              "          element.appendChild(docLink);\n",
              "        }\n",
              "      </script>\n",
              "    </div>\n",
              "  </div>\n",
              "  "
            ]
          },
          "metadata": {},
          "execution_count": 32
        }
      ]
    },
    {
      "cell_type": "markdown",
      "source": [
        "### **EDA**\n"
      ],
      "metadata": {
        "id": "baV7DBijLyRR"
      }
    },
    {
      "cell_type": "code",
      "source": [
        "#checking for null values\n",
        "orcs.isnull().sum()"
      ],
      "metadata": {
        "colab": {
          "base_uri": "https://localhost:8080/"
        },
        "id": "X3_TQ24HL0rh",
        "outputId": "44f75dc6-67e2-4075-aac9-b3d4479ac1fa"
      },
      "execution_count": null,
      "outputs": [
        {
          "output_type": "execute_result",
          "data": {
            "text/plain": [
              "InvoiceNo           0\n",
              "StockCode           0\n",
              "Description      1454\n",
              "Quantity            0\n",
              "InvoiceDate         0\n",
              "UnitPrice           0\n",
              "CustomerID     135080\n",
              "Country             0\n",
              "dtype: int64"
            ]
          },
          "metadata": {},
          "execution_count": 33
        }
      ]
    },
    {
      "cell_type": "code",
      "source": [
        "#visualising null values\n",
        "sns.heatmap(orcs.isnull())"
      ],
      "metadata": {
        "colab": {
          "base_uri": "https://localhost:8080/",
          "height": 346
        },
        "id": "w_5RwdkbL5wr",
        "outputId": "340495db-0703-4547-ca0e-443db69a6a97"
      },
      "execution_count": null,
      "outputs": [
        {
          "output_type": "execute_result",
          "data": {
            "text/plain": [
              "<AxesSubplot:>"
            ]
          },
          "metadata": {},
          "execution_count": 34
        },
        {
          "output_type": "display_data",
          "data": {
            "text/plain": [
              "<Figure size 432x288 with 2 Axes>"
            ],
            "image/png": "[encoded data removed]"
          },
          "metadata": {}
        }
      ]
    },
    {
      "cell_type": "markdown",
      "source": [
        "About 24.93% customer IDs are missing in the dataset and 0.27% product descriptions are missing these features cannot be imputed as they are unique for each customer, so we have to drop these variable values."
      ],
      "metadata": {
        "id": "9_h9ybwaMBmu"
      }
    },
    {
      "cell_type": "code",
      "source": [
        "orcs.dropna(axis = 0, inplace = True)\n",
        "orcs.shape"
      ],
      "metadata": {
        "colab": {
          "base_uri": "https://localhost:8080/"
        },
        "id": "eNeGGs3OMEhb",
        "outputId": "678b77fa-b454-4162-e466-819ff4bdc475"
      },
      "execution_count": null,
      "outputs": [
        {
          "output_type": "execute_result",
          "data": {
            "text/plain": [
              "(406829, 8)"
            ]
          },
          "metadata": {},
          "execution_count": 35
        }
      ]
    },
    {
      "cell_type": "code",
      "source": [
        "sns.heatmap(orcs.isnull())"
      ],
      "metadata": {
        "colab": {
          "base_uri": "https://localhost:8080/",
          "height": 346
        },
        "id": "go159VRtMLaN",
        "outputId": "a535a3dd-dcfa-4acd-c6cf-b9b0b09f4e29"
      },
      "execution_count": null,
      "outputs": [
        {
          "output_type": "execute_result",
          "data": {
            "text/plain": [
              "<AxesSubplot:>"
            ]
          },
          "metadata": {},
          "execution_count": 36
        },
        {
          "output_type": "display_data",
          "data": {
            "text/plain": [
              "<Figure size 432x288 with 2 Axes>"
            ],
            "image/png": "[encoded data removed]"
          },
          "metadata": {}
        }
      ]
    },
    {
      "cell_type": "code",
      "source": [
        "orcs.isnull().sum()"
      ],
      "metadata": {
        "colab": {
          "base_uri": "https://localhost:8080/"
        },
        "id": "DXxXtxKNMbtx",
        "outputId": "f111f130-734e-47be-d788-809f05a72b6c"
      },
      "execution_count": null,
      "outputs": [
        {
          "output_type": "execute_result",
          "data": {
            "text/plain": [
              "InvoiceNo      0\n",
              "StockCode      0\n",
              "Description    0\n",
              "Quantity       0\n",
              "InvoiceDate    0\n",
              "UnitPrice      0\n",
              "CustomerID     0\n",
              "Country        0\n",
              "dtype: int64"
            ]
          },
          "metadata": {},
          "execution_count": 37
        }
      ]
    },
    {
      "cell_type": "code",
      "source": [
        "orcs.describe()"
      ],
      "metadata": {
        "colab": {
          "base_uri": "https://localhost:8080/",
          "height": 300
        },
        "id": "CU9t6bgENUO1",
        "outputId": "bea6d1f9-df32-4ad4-eec9-4ccb8e7dfa9a"
      },
      "execution_count": null,
      "outputs": [
        {
          "output_type": "execute_result",
          "data": {
            "text/plain": [
              "            Quantity      UnitPrice     CustomerID\n",
              "count  406829.000000  406829.000000  406829.000000\n",
              "mean       12.061303       3.460471   15287.690570\n",
              "std       248.693370      69.315162    1713.600303\n",
              "min    -80995.000000       0.000000   12346.000000\n",
              "25%         2.000000       1.250000   13953.000000\n",
              "50%         5.000000       1.950000   15152.000000\n",
              "75%        12.000000       3.750000   16791.000000\n",
              "max     80995.000000   38970.000000   18287.000000"
            ],
            "text/html": [
              "\n",
              "  <div id=\"df-83255d9a-6ec9-44cb-9051-cf1a64f0c2a6\">\n",
              "    <div class=\"colab-df-container\">\n",
              "      <div>\n",
              "<style scoped>\n",
              "    .dataframe tbody tr th:only-of-type {\n",
              "        vertical-align: middle;\n",
              "    }\n",
              "\n",
              "    .dataframe tbody tr th {\n",
              "        vertical-align: top;\n",
              "    }\n",
              "\n",
              "    .dataframe thead th {\n",
              "        text-align: right;\n",
              "    }\n",
              "</style>\n",
              "<table border=\"1\" class=\"dataframe\">\n",
              "  <thead>\n",
              "    <tr style=\"text-align: right;\">\n",
              "      <th></th>\n",
              "      <th>Quantity</th>\n",
              "      <th>UnitPrice</th>\n",
              "      <th>CustomerID</th>\n",
              "    </tr>\n",
              "  </thead>\n",
              "  <tbody>\n",
              "    <tr>\n",
              "      <th>count</th>\n",
              "      <td>406829.000000</td>\n",
              "      <td>406829.000000</td>\n",
              "      <td>406829.000000</td>\n",
              "    </tr>\n",
              "    <tr>\n",
              "      <th>mean</th>\n",
              "      <td>12.061303</td>\n",
              "      <td>3.460471</td>\n",
              "      <td>15287.690570</td>\n",
              "    </tr>\n",
              "    <tr>\n",
              "      <th>std</th>\n",
              "      <td>248.693370</td>\n",
              "      <td>69.315162</td>\n",
              "      <td>1713.600303</td>\n",
              "    </tr>\n",
              "    <tr>\n",
              "      <th>min</th>\n",
              "      <td>-80995.000000</td>\n",
              "      <td>0.000000</td>\n",
              "      <td>12346.000000</td>\n",
              "    </tr>\n",
              "    <tr>\n",
              "      <th>25%</th>\n",
              "      <td>2.000000</td>\n",
              "      <td>1.250000</td>\n",
              "      <td>13953.000000</td>\n",
              "    </tr>\n",
              "    <tr>\n",
              "      <th>50%</th>\n",
              "      <td>5.000000</td>\n",
              "      <td>1.950000</td>\n",
              "      <td>15152.000000</td>\n",
              "    </tr>\n",
              "    <tr>\n",
              "      <th>75%</th>\n",
              "      <td>12.000000</td>\n",
              "      <td>3.750000</td>\n",
              "      <td>16791.000000</td>\n",
              "    </tr>\n",
              "    <tr>\n",
              "      <th>max</th>\n",
              "      <td>80995.000000</td>\n",
              "      <td>38970.000000</td>\n",
              "      <td>18287.000000</td>\n",
              "    </tr>\n",
              "  </tbody>\n",
              "</table>\n",
              "</div>\n",
              "      <button class=\"colab-df-convert\" onclick=\"convertToInteractive('df-83255d9a-6ec9-44cb-9051-cf1a64f0c2a6')\"\n",
              "              title=\"Convert this dataframe to an interactive table.\"\n",
              "              style=\"display:none;\">\n",
              "        \n",
              "  <svg xmlns=\"http://www.w3.org/2000/svg\" height=\"24px\"viewBox=\"0 0 24 24\"\n",
              "       width=\"24px\">\n",
              "    <path d=\"M0 0h24v24H0V0z\" fill=\"none\"/>\n",
              "    <path d=\"M18.56 5.44l.94 2.06.94-2.06 2.06-.94-2.06-.94-.94-2.06-.94 2.06-2.06.94zm-11 1L8.5 8.5l.94-2.06 2.06-.94-2.06-.94L8.5 2.5l-.94 2.06-2.06.94zm10 10l.94 2.06.94-2.06 2.06-.94-2.06-.94-.94-2.06-.94 2.06-2.06.94z\"/><path d=\"M17.41 7.96l-1.37-1.37c-.4-.4-.92-.59-1.43-.59-.52 0-1.04.2-1.43.59L10.3 9.45l-7.72 7.72c-.78.78-.78 2.05 0 2.83L4 21.41c.39.39.9.59 1.41.59.51 0 1.02-.2 1.41-.59l7.78-7.78 2.81-2.81c.8-.78.8-2.07 0-2.86zM5.41 20L4 18.59l7.72-7.72 1.47 1.35L5.41 20z\"/>\n",
              "  </svg>\n",
              "      </button>\n",
              "      \n",
              "  <style>\n",
              "    .colab-df-container {\n",
              "      display:flex;\n",
              "      flex-wrap:wrap;\n",
              "      gap: 12px;\n",
              "    }\n",
              "\n",
              "    .colab-df-convert {\n",
              "      background-color: #E8F0FE;\n",
              "      border: none;\n",
              "      border-radius: 50%;\n",
              "      cursor: pointer;\n",
              "      display: none;\n",
              "      fill: #1967D2;\n",
              "      height: 32px;\n",
              "      padding: 0 0 0 0;\n",
              "      width: 32px;\n",
              "    }\n",
              "\n",
              "    .colab-df-convert:hover {\n",
              "      background-color: #E2EBFA;\n",
              "      box-shadow: 0px 1px 2px rgba(60, 64, 67, 0.3), 0px 1px 3px 1px rgba(60, 64, 67, 0.15);\n",
              "      fill: #174EA6;\n",
              "    }\n",
              "\n",
              "    [theme=dark] .colab-df-convert {\n",
              "      background-color: #3B4455;\n",
              "      fill: #D2E3FC;\n",
              "    }\n",
              "\n",
              "    [theme=dark] .colab-df-convert:hover {\n",
              "      background-color: #434B5C;\n",
              "      box-shadow: 0px 1px 3px 1px rgba(0, 0, 0, 0.15);\n",
              "      filter: drop-shadow(0px 1px 2px rgba(0, 0, 0, 0.3));\n",
              "      fill: #FFFFFF;\n",
              "    }\n",
              "  </style>\n",
              "\n",
              "      <script>\n",
              "        const buttonEl =\n",
              "          document.querySelector('#df-83255d9a-6ec9-44cb-9051-cf1a64f0c2a6 button.colab-df-convert');\n",
              "        buttonEl.style.display =\n",
              "          google.colab.kernel.accessAllowed ? 'block' : 'none';\n",
              "\n",
              "        async function convertToInteractive(key) {\n",
              "          const element = document.querySelector('#df-83255d9a-6ec9-44cb-9051-cf1a64f0c2a6');\n",
              "          const dataTable =\n",
              "            await google.colab.kernel.invokeFunction('convertToInteractive',\n",
              "                                                     [key], {});\n",
              "          if (!dataTable) return;\n",
              "\n",
              "          const docLinkHtml = 'Like what you see? Visit the ' +\n",
              "            '<a target=\"_blank\" href=https://colab.research.google.com/notebooks/data_table.ipynb>data table notebook</a>'\n",
              "            + ' to learn more about interactive tables.';\n",
              "          element.innerHTML = '';\n",
              "          dataTable['output_type'] = 'display_data';\n",
              "          await google.colab.output.renderOutput(dataTable, element);\n",
              "          const docLink = document.createElement('div');\n",
              "          docLink.innerHTML = docLinkHtml;\n",
              "          element.appendChild(docLink);\n",
              "        }\n",
              "      </script>\n",
              "    </div>\n",
              "  </div>\n",
              "  "
            ]
          },
          "metadata": {},
          "execution_count": 38
        }
      ]
    },
    {
      "cell_type": "code",
      "source": [
        "#we need to drop produsts which are cancelled from the dataset. Cancelled data can be identified as \"InvoiceNo\" starting with 'C'.\n",
        "orcs['InvoiceNo'] = orcs['InvoiceNo'].astype('str')\n",
        "orcs2=orcs[~orcs['InvoiceNo'].str.contains('C')]"
      ],
      "metadata": {
        "id": "wiw9e8abNiry"
      },
      "execution_count": null,
      "outputs": []
    },
    {
      "cell_type": "code",
      "source": [
        "orcs2.shape"
      ],
      "metadata": {
        "colab": {
          "base_uri": "https://localhost:8080/"
        },
        "id": "YiE6bKVXOhEz",
        "outputId": "4de2ae31-0edb-4451-89e3-d768a0330ba5"
      },
      "execution_count": null,
      "outputs": [
        {
          "output_type": "execute_result",
          "data": {
            "text/plain": [
              "(397924, 8)"
            ]
          },
          "metadata": {},
          "execution_count": 40
        }
      ]
    },
    {
      "cell_type": "markdown",
      "source": [
        "\n",
        "We can split 'InvoiceDate' variable as 'Iyear','Imonth','Iday'and'Ihour'."
      ],
      "metadata": {
        "id": "MXXckqOcPFoA"
      }
    },
    {
      "cell_type": "code",
      "source": [
        "orcs2[\"Invoice_Year\"] = orcs2['InvoiceDate'].dt.year\n",
        "orcs2['Invoice_Month'] = orcs2['InvoiceDate'].dt.strftime('%B')\n",
        "orcs2['Invoice_Day'] = orcs2['InvoiceDate'].dt.strftime('%A')\n",
        "orcs2['Invoice_Hour'] = orcs2['InvoiceDate'].dt.hour"
      ],
      "metadata": {
        "id": "Nm4FHBxGPHyG"
      },
      "execution_count": null,
      "outputs": []
    },
    {
      "cell_type": "code",
      "source": [
        "#We have the 'UnitPrice' and 'Quantity', through this we can calculate the 'TotalExpenditure' of each Invoice.\n",
        "orcs2['TotalExpenditure']=orcs2['Quantity']*orcs2['UnitPrice'] "
      ],
      "metadata": {
        "id": "hlfBjsdmP4qZ"
      },
      "execution_count": null,
      "outputs": []
    },
    {
      "cell_type": "code",
      "source": [
        "orcs2.head()"
      ],
      "metadata": {
        "colab": {
          "base_uri": "https://localhost:8080/",
          "height": 582
        },
        "id": "2eTP_iEUP-lj",
        "outputId": "83049dba-1b36-4bb2-e328-4198d52b8451"
      },
      "execution_count": null,
      "outputs": [
        {
          "output_type": "execute_result",
          "data": {
            "text/plain": [
              "  InvoiceNo StockCode                          Description  Quantity  \\\n",
              "0    536365    85123A   WHITE HANGING HEART T-LIGHT HOLDER         6   \n",
              "1    536365     71053                  WHITE METAL LANTERN         6   \n",
              "2    536365    84406B       CREAM CUPID HEARTS COAT HANGER         8   \n",
              "3    536365    84029G  KNITTED UNION FLAG HOT WATER BOTTLE         6   \n",
              "4    536365    84029E       RED WOOLLY HOTTIE WHITE HEART.         6   \n",
              "\n",
              "          InvoiceDate  UnitPrice  CustomerID         Country  Invoice_Year  \\\n",
              "0 2010-12-01 08:26:00       2.55     17850.0  United Kingdom          2010   \n",
              "1 2010-12-01 08:26:00       3.39     17850.0  United Kingdom          2010   \n",
              "2 2010-12-01 08:26:00       2.75     17850.0  United Kingdom          2010   \n",
              "3 2010-12-01 08:26:00       3.39     17850.0  United Kingdom          2010   \n",
              "4 2010-12-01 08:26:00       3.39     17850.0  United Kingdom          2010   \n",
              "\n",
              "  Invoice_Month Invoice_Day  Invoice_Hour  TotalExpenditure  \n",
              "0      December   Wednesday             8             15.30  \n",
              "1      December   Wednesday             8             20.34  \n",
              "2      December   Wednesday             8             22.00  \n",
              "3      December   Wednesday             8             20.34  \n",
              "4      December   Wednesday             8             20.34  "
            ],
            "text/html": [
              "\n",
              "  <div id=\"df-59bc54d4-3dfc-4e3c-952e-0ea89d358f9a\">\n",
              "    <div class=\"colab-df-container\">\n",
              "      <div>\n",
              "<style scoped>\n",
              "    .dataframe tbody tr th:only-of-type {\n",
              "        vertical-align: middle;\n",
              "    }\n",
              "\n",
              "    .dataframe tbody tr th {\n",
              "        vertical-align: top;\n",
              "    }\n",
              "\n",
              "    .dataframe thead th {\n",
              "        text-align: right;\n",
              "    }\n",
              "</style>\n",
              "<table border=\"1\" class=\"dataframe\">\n",
              "  <thead>\n",
              "    <tr style=\"text-align: right;\">\n",
              "      <th></th>\n",
              "      <th>InvoiceNo</th>\n",
              "      <th>StockCode</th>\n",
              "      <th>Description</th>\n",
              "      <th>Quantity</th>\n",
              "      <th>InvoiceDate</th>\n",
              "      <th>UnitPrice</th>\n",
              "      <th>CustomerID</th>\n",
              "      <th>Country</th>\n",
              "      <th>Invoice_Year</th>\n",
              "      <th>Invoice_Month</th>\n",
              "      <th>Invoice_Day</th>\n",
              "      <th>Invoice_Hour</th>\n",
              "      <th>TotalExpenditure</th>\n",
              "    </tr>\n",
              "  </thead>\n",
              "  <tbody>\n",
              "    <tr>\n",
              "      <th>0</th>\n",
              "      <td>536365</td>\n",
              "      <td>85123A</td>\n",
              "      <td>WHITE HANGING HEART T-LIGHT HOLDER</td>\n",
              "      <td>6</td>\n",
              "      <td>2010-12-01 08:26:00</td>\n",
              "      <td>2.55</td>\n",
              "      <td>17850.0</td>\n",
              "      <td>United Kingdom</td>\n",
              "      <td>2010</td>\n",
              "      <td>December</td>\n",
              "      <td>Wednesday</td>\n",
              "      <td>8</td>\n",
              "      <td>15.30</td>\n",
              "    </tr>\n",
              "    <tr>\n",
              "      <th>1</th>\n",
              "      <td>536365</td>\n",
              "      <td>71053</td>\n",
              "      <td>WHITE METAL LANTERN</td>\n",
              "      <td>6</td>\n",
              "      <td>2010-12-01 08:26:00</td>\n",
              "      <td>3.39</td>\n",
              "      <td>17850.0</td>\n",
              "      <td>United Kingdom</td>\n",
              "      <td>2010</td>\n",
              "      <td>December</td>\n",
              "      <td>Wednesday</td>\n",
              "      <td>8</td>\n",
              "      <td>20.34</td>\n",
              "    </tr>\n",
              "    <tr>\n",
              "      <th>2</th>\n",
              "      <td>536365</td>\n",
              "      <td>84406B</td>\n",
              "      <td>CREAM CUPID HEARTS COAT HANGER</td>\n",
              "      <td>8</td>\n",
              "      <td>2010-12-01 08:26:00</td>\n",
              "      <td>2.75</td>\n",
              "      <td>17850.0</td>\n",
              "      <td>United Kingdom</td>\n",
              "      <td>2010</td>\n",
              "      <td>December</td>\n",
              "      <td>Wednesday</td>\n",
              "      <td>8</td>\n",
              "      <td>22.00</td>\n",
              "    </tr>\n",
              "    <tr>\n",
              "      <th>3</th>\n",
              "      <td>536365</td>\n",
              "      <td>84029G</td>\n",
              "      <td>KNITTED UNION FLAG HOT WATER BOTTLE</td>\n",
              "      <td>6</td>\n",
              "      <td>2010-12-01 08:26:00</td>\n",
              "      <td>3.39</td>\n",
              "      <td>17850.0</td>\n",
              "      <td>United Kingdom</td>\n",
              "      <td>2010</td>\n",
              "      <td>December</td>\n",
              "      <td>Wednesday</td>\n",
              "      <td>8</td>\n",
              "      <td>20.34</td>\n",
              "    </tr>\n",
              "    <tr>\n",
              "      <th>4</th>\n",
              "      <td>536365</td>\n",
              "      <td>84029E</td>\n",
              "      <td>RED WOOLLY HOTTIE WHITE HEART.</td>\n",
              "      <td>6</td>\n",
              "      <td>2010-12-01 08:26:00</td>\n",
              "      <td>3.39</td>\n",
              "      <td>17850.0</td>\n",
              "      <td>United Kingdom</td>\n",
              "      <td>2010</td>\n",
              "      <td>December</td>\n",
              "      <td>Wednesday</td>\n",
              "      <td>8</td>\n",
              "      <td>20.34</td>\n",
              "    </tr>\n",
              "  </tbody>\n",
              "</table>\n",
              "</div>\n",
              "      <button class=\"colab-df-convert\" onclick=\"convertToInteractive('df-59bc54d4-3dfc-4e3c-952e-0ea89d358f9a')\"\n",
              "              title=\"Convert this dataframe to an interactive table.\"\n",
              "              style=\"display:none;\">\n",
              "        \n",
              "  <svg xmlns=\"http://www.w3.org/2000/svg\" height=\"24px\"viewBox=\"0 0 24 24\"\n",
              "       width=\"24px\">\n",
              "    <path d=\"M0 0h24v24H0V0z\" fill=\"none\"/>\n",
              "    <path d=\"M18.56 5.44l.94 2.06.94-2.06 2.06-.94-2.06-.94-.94-2.06-.94 2.06-2.06.94zm-11 1L8.5 8.5l.94-2.06 2.06-.94-2.06-.94L8.5 2.5l-.94 2.06-2.06.94zm10 10l.94 2.06.94-2.06 2.06-.94-2.06-.94-.94-2.06-.94 2.06-2.06.94z\"/><path d=\"M17.41 7.96l-1.37-1.37c-.4-.4-.92-.59-1.43-.59-.52 0-1.04.2-1.43.59L10.3 9.45l-7.72 7.72c-.78.78-.78 2.05 0 2.83L4 21.41c.39.39.9.59 1.41.59.51 0 1.02-.2 1.41-.59l7.78-7.78 2.81-2.81c.8-.78.8-2.07 0-2.86zM5.41 20L4 18.59l7.72-7.72 1.47 1.35L5.41 20z\"/>\n",
              "  </svg>\n",
              "      </button>\n",
              "      \n",
              "  <style>\n",
              "    .colab-df-container {\n",
              "      display:flex;\n",
              "      flex-wrap:wrap;\n",
              "      gap: 12px;\n",
              "    }\n",
              "\n",
              "    .colab-df-convert {\n",
              "      background-color: #E8F0FE;\n",
              "      border: none;\n",
              "      border-radius: 50%;\n",
              "      cursor: pointer;\n",
              "      display: none;\n",
              "      fill: #1967D2;\n",
              "      height: 32px;\n",
              "      padding: 0 0 0 0;\n",
              "      width: 32px;\n",
              "    }\n",
              "\n",
              "    .colab-df-convert:hover {\n",
              "      background-color: #E2EBFA;\n",
              "      box-shadow: 0px 1px 2px rgba(60, 64, 67, 0.3), 0px 1px 3px 1px rgba(60, 64, 67, 0.15);\n",
              "      fill: #174EA6;\n",
              "    }\n",
              "\n",
              "    [theme=dark] .colab-df-convert {\n",
              "      background-color: #3B4455;\n",
              "      fill: #D2E3FC;\n",
              "    }\n",
              "\n",
              "    [theme=dark] .colab-df-convert:hover {\n",
              "      background-color: #434B5C;\n",
              "      box-shadow: 0px 1px 3px 1px rgba(0, 0, 0, 0.15);\n",
              "      filter: drop-shadow(0px 1px 2px rgba(0, 0, 0, 0.3));\n",
              "      fill: #FFFFFF;\n",
              "    }\n",
              "  </style>\n",
              "\n",
              "      <script>\n",
              "        const buttonEl =\n",
              "          document.querySelector('#df-59bc54d4-3dfc-4e3c-952e-0ea89d358f9a button.colab-df-convert');\n",
              "        buttonEl.style.display =\n",
              "          google.colab.kernel.accessAllowed ? 'block' : 'none';\n",
              "\n",
              "        async function convertToInteractive(key) {\n",
              "          const element = document.querySelector('#df-59bc54d4-3dfc-4e3c-952e-0ea89d358f9a');\n",
              "          const dataTable =\n",
              "            await google.colab.kernel.invokeFunction('convertToInteractive',\n",
              "                                                     [key], {});\n",
              "          if (!dataTable) return;\n",
              "\n",
              "          const docLinkHtml = 'Like what you see? Visit the ' +\n",
              "            '<a target=\"_blank\" href=https://colab.research.google.com/notebooks/data_table.ipynb>data table notebook</a>'\n",
              "            + ' to learn more about interactive tables.';\n",
              "          element.innerHTML = '';\n",
              "          dataTable['output_type'] = 'display_data';\n",
              "          await google.colab.output.renderOutput(dataTable, element);\n",
              "          const docLink = document.createElement('div');\n",
              "          docLink.innerHTML = docLinkHtml;\n",
              "          element.appendChild(docLink);\n",
              "        }\n",
              "      </script>\n",
              "    </div>\n",
              "  </div>\n",
              "  "
            ]
          },
          "metadata": {},
          "execution_count": 43
        }
      ]
    },
    {
      "cell_type": "code",
      "source": [
        "orcs2.info()"
      ],
      "metadata": {
        "colab": {
          "base_uri": "https://localhost:8080/"
        },
        "id": "LypVEJthRNXU",
        "outputId": "65f81c33-2d9b-4da4-b65d-7b1a053d39c5"
      },
      "execution_count": null,
      "outputs": [
        {
          "output_type": "stream",
          "name": "stdout",
          "text": [
            "<class 'pandas.core.frame.DataFrame'>\n",
            "Int64Index: 397924 entries, 0 to 541908\n",
            "Data columns (total 13 columns):\n",
            " #   Column            Non-Null Count   Dtype         \n",
            "---  ------            --------------   -----         \n",
            " 0   InvoiceNo         397924 non-null  object        \n",
            " 1   StockCode         397924 non-null  object        \n",
            " 2   Description       397924 non-null  object        \n",
            " 3   Quantity          397924 non-null  int64         \n",
            " 4   InvoiceDate       397924 non-null  datetime64[ns]\n",
            " 5   UnitPrice         397924 non-null  float64       \n",
            " 6   CustomerID        397924 non-null  float64       \n",
            " 7   Country           397924 non-null  object        \n",
            " 8   Invoice_Year      397924 non-null  int64         \n",
            " 9   Invoice_Month     397924 non-null  object        \n",
            " 10  Invoice_Day       397924 non-null  object        \n",
            " 11  Invoice_Hour      397924 non-null  int64         \n",
            " 12  TotalExpenditure  397924 non-null  float64       \n",
            "dtypes: datetime64[ns](1), float64(3), int64(3), object(6)\n",
            "memory usage: 42.5+ MB\n"
          ]
        }
      ]
    },
    {
      "cell_type": "code",
      "source": [
        "orcs2.describe()"
      ],
      "metadata": {
        "colab": {
          "base_uri": "https://localhost:8080/",
          "height": 300
        },
        "id": "MVsGluuaRP4f",
        "outputId": "d6f03283-9f0a-4ac6-aeb3-d6beec969554"
      },
      "execution_count": null,
      "outputs": [
        {
          "output_type": "execute_result",
          "data": {
            "text/plain": [
              "            Quantity      UnitPrice     CustomerID   Invoice_Year  \\\n",
              "count  397924.000000  397924.000000  397924.000000  397924.000000   \n",
              "mean       13.021823       3.116174   15294.315171    2010.934259   \n",
              "std       180.420210      22.096788    1713.169877       0.247829   \n",
              "min         1.000000       0.000000   12346.000000    2010.000000   \n",
              "25%         2.000000       1.250000   13969.000000    2011.000000   \n",
              "50%         6.000000       1.950000   15159.000000    2011.000000   \n",
              "75%        12.000000       3.750000   16795.000000    2011.000000   \n",
              "max     80995.000000    8142.750000   18287.000000    2011.000000   \n",
              "\n",
              "        Invoice_Hour  TotalExpenditure  \n",
              "count  397924.000000     397924.000000  \n",
              "mean       12.728247         22.394749  \n",
              "std         2.273535        309.055588  \n",
              "min         6.000000          0.000000  \n",
              "25%        11.000000          4.680000  \n",
              "50%        13.000000         11.800000  \n",
              "75%        14.000000         19.800000  \n",
              "max        20.000000     168469.600000  "
            ],
            "text/html": [
              "\n",
              "  <div id=\"df-8725f7f8-dfcb-41d5-a56d-c953f0ebca23\">\n",
              "    <div class=\"colab-df-container\">\n",
              "      <div>\n",
              "<style scoped>\n",
              "    .dataframe tbody tr th:only-of-type {\n",
              "        vertical-align: middle;\n",
              "    }\n",
              "\n",
              "    .dataframe tbody tr th {\n",
              "        vertical-align: top;\n",
              "    }\n",
              "\n",
              "    .dataframe thead th {\n",
              "        text-align: right;\n",
              "    }\n",
              "</style>\n",
              "<table border=\"1\" class=\"dataframe\">\n",
              "  <thead>\n",
              "    <tr style=\"text-align: right;\">\n",
              "      <th></th>\n",
              "      <th>Quantity</th>\n",
              "      <th>UnitPrice</th>\n",
              "      <th>CustomerID</th>\n",
              "      <th>Invoice_Year</th>\n",
              "      <th>Invoice_Hour</th>\n",
              "      <th>TotalExpenditure</th>\n",
              "    </tr>\n",
              "  </thead>\n",
              "  <tbody>\n",
              "    <tr>\n",
              "      <th>count</th>\n",
              "      <td>397924.000000</td>\n",
              "      <td>397924.000000</td>\n",
              "      <td>397924.000000</td>\n",
              "      <td>397924.000000</td>\n",
              "      <td>397924.000000</td>\n",
              "      <td>397924.000000</td>\n",
              "    </tr>\n",
              "    <tr>\n",
              "      <th>mean</th>\n",
              "      <td>13.021823</td>\n",
              "      <td>3.116174</td>\n",
              "      <td>15294.315171</td>\n",
              "      <td>2010.934259</td>\n",
              "      <td>12.728247</td>\n",
              "      <td>22.394749</td>\n",
              "    </tr>\n",
              "    <tr>\n",
              "      <th>std</th>\n",
              "      <td>180.420210</td>\n",
              "      <td>22.096788</td>\n",
              "      <td>1713.169877</td>\n",
              "      <td>0.247829</td>\n",
              "      <td>2.273535</td>\n",
              "      <td>309.055588</td>\n",
              "    </tr>\n",
              "    <tr>\n",
              "      <th>min</th>\n",
              "      <td>1.000000</td>\n",
              "      <td>0.000000</td>\n",
              "      <td>12346.000000</td>\n",
              "      <td>2010.000000</td>\n",
              "      <td>6.000000</td>\n",
              "      <td>0.000000</td>\n",
              "    </tr>\n",
              "    <tr>\n",
              "      <th>25%</th>\n",
              "      <td>2.000000</td>\n",
              "      <td>1.250000</td>\n",
              "      <td>13969.000000</td>\n",
              "      <td>2011.000000</td>\n",
              "      <td>11.000000</td>\n",
              "      <td>4.680000</td>\n",
              "    </tr>\n",
              "    <tr>\n",
              "      <th>50%</th>\n",
              "      <td>6.000000</td>\n",
              "      <td>1.950000</td>\n",
              "      <td>15159.000000</td>\n",
              "      <td>2011.000000</td>\n",
              "      <td>13.000000</td>\n",
              "      <td>11.800000</td>\n",
              "    </tr>\n",
              "    <tr>\n",
              "      <th>75%</th>\n",
              "      <td>12.000000</td>\n",
              "      <td>3.750000</td>\n",
              "      <td>16795.000000</td>\n",
              "      <td>2011.000000</td>\n",
              "      <td>14.000000</td>\n",
              "      <td>19.800000</td>\n",
              "    </tr>\n",
              "    <tr>\n",
              "      <th>max</th>\n",
              "      <td>80995.000000</td>\n",
              "      <td>8142.750000</td>\n",
              "      <td>18287.000000</td>\n",
              "      <td>2011.000000</td>\n",
              "      <td>20.000000</td>\n",
              "      <td>168469.600000</td>\n",
              "    </tr>\n",
              "  </tbody>\n",
              "</table>\n",
              "</div>\n",
              "      <button class=\"colab-df-convert\" onclick=\"convertToInteractive('df-8725f7f8-dfcb-41d5-a56d-c953f0ebca23')\"\n",
              "              title=\"Convert this dataframe to an interactive table.\"\n",
              "              style=\"display:none;\">\n",
              "        \n",
              "  <svg xmlns=\"http://www.w3.org/2000/svg\" height=\"24px\"viewBox=\"0 0 24 24\"\n",
              "       width=\"24px\">\n",
              "    <path d=\"M0 0h24v24H0V0z\" fill=\"none\"/>\n",
              "    <path d=\"M18.56 5.44l.94 2.06.94-2.06 2.06-.94-2.06-.94-.94-2.06-.94 2.06-2.06.94zm-11 1L8.5 8.5l.94-2.06 2.06-.94-2.06-.94L8.5 2.5l-.94 2.06-2.06.94zm10 10l.94 2.06.94-2.06 2.06-.94-2.06-.94-.94-2.06-.94 2.06-2.06.94z\"/><path d=\"M17.41 7.96l-1.37-1.37c-.4-.4-.92-.59-1.43-.59-.52 0-1.04.2-1.43.59L10.3 9.45l-7.72 7.72c-.78.78-.78 2.05 0 2.83L4 21.41c.39.39.9.59 1.41.59.51 0 1.02-.2 1.41-.59l7.78-7.78 2.81-2.81c.8-.78.8-2.07 0-2.86zM5.41 20L4 18.59l7.72-7.72 1.47 1.35L5.41 20z\"/>\n",
              "  </svg>\n",
              "      </button>\n",
              "      \n",
              "  <style>\n",
              "    .colab-df-container {\n",
              "      display:flex;\n",
              "      flex-wrap:wrap;\n",
              "      gap: 12px;\n",
              "    }\n",
              "\n",
              "    .colab-df-convert {\n",
              "      background-color: #E8F0FE;\n",
              "      border: none;\n",
              "      border-radius: 50%;\n",
              "      cursor: pointer;\n",
              "      display: none;\n",
              "      fill: #1967D2;\n",
              "      height: 32px;\n",
              "      padding: 0 0 0 0;\n",
              "      width: 32px;\n",
              "    }\n",
              "\n",
              "    .colab-df-convert:hover {\n",
              "      background-color: #E2EBFA;\n",
              "      box-shadow: 0px 1px 2px rgba(60, 64, 67, 0.3), 0px 1px 3px 1px rgba(60, 64, 67, 0.15);\n",
              "      fill: #174EA6;\n",
              "    }\n",
              "\n",
              "    [theme=dark] .colab-df-convert {\n",
              "      background-color: #3B4455;\n",
              "      fill: #D2E3FC;\n",
              "    }\n",
              "\n",
              "    [theme=dark] .colab-df-convert:hover {\n",
              "      background-color: #434B5C;\n",
              "      box-shadow: 0px 1px 3px 1px rgba(0, 0, 0, 0.15);\n",
              "      filter: drop-shadow(0px 1px 2px rgba(0, 0, 0, 0.3));\n",
              "      fill: #FFFFFF;\n",
              "    }\n",
              "  </style>\n",
              "\n",
              "      <script>\n",
              "        const buttonEl =\n",
              "          document.querySelector('#df-8725f7f8-dfcb-41d5-a56d-c953f0ebca23 button.colab-df-convert');\n",
              "        buttonEl.style.display =\n",
              "          google.colab.kernel.accessAllowed ? 'block' : 'none';\n",
              "\n",
              "        async function convertToInteractive(key) {\n",
              "          const element = document.querySelector('#df-8725f7f8-dfcb-41d5-a56d-c953f0ebca23');\n",
              "          const dataTable =\n",
              "            await google.colab.kernel.invokeFunction('convertToInteractive',\n",
              "                                                     [key], {});\n",
              "          if (!dataTable) return;\n",
              "\n",
              "          const docLinkHtml = 'Like what you see? Visit the ' +\n",
              "            '<a target=\"_blank\" href=https://colab.research.google.com/notebooks/data_table.ipynb>data table notebook</a>'\n",
              "            + ' to learn more about interactive tables.';\n",
              "          element.innerHTML = '';\n",
              "          dataTable['output_type'] = 'display_data';\n",
              "          await google.colab.output.renderOutput(dataTable, element);\n",
              "          const docLink = document.createElement('div');\n",
              "          docLink.innerHTML = docLinkHtml;\n",
              "          element.appendChild(docLink);\n",
              "        }\n",
              "      </script>\n",
              "    </div>\n",
              "  </div>\n",
              "  "
            ]
          },
          "metadata": {},
          "execution_count": 45
        }
      ]
    },
    {
      "cell_type": "markdown",
      "source": [
        "Lets find out the top\n",
        "\n",
        "1.customers\n",
        "\n",
        "2.countries with sales\n",
        "\n",
        "3.product"
      ],
      "metadata": {
        "id": "yLWlgVSHRXqi"
      }
    },
    {
      "cell_type": "code",
      "source": [
        "#Top 10 customers\n",
        "TopCustomers = pd.DataFrame(orcs2['CustomerID'].value_counts().sort_values(ascending = False).reset_index())\n",
        "TopCustomers.rename(columns = {'index':'CustomerID','CustomerID':'counts'},inplace = True)\n",
        "plt.figure(figsize = (9,5))\n",
        "plot1=sns.barplot(x = 'CustomerID',y = 'counts',palette= 'Set2',data = TopCustomers[:10])\n",
        "plt.xlabel('CustomerID')\n",
        "plt.ylabel('Frequency')\n",
        "plt.title(\"Top 1O Customers.\")\n"
      ],
      "metadata": {
        "colab": {
          "base_uri": "https://localhost:8080/",
          "height": 372
        },
        "id": "H4sPmMuDRct-",
        "outputId": "cc521852-f42f-48eb-9102-210bf07057f2"
      },
      "execution_count": null,
      "outputs": [
        {
          "output_type": "execute_result",
          "data": {
            "text/plain": [
              "Text(0.5, 1.0, 'Top 1O Customers.')"
            ]
          },
          "metadata": {},
          "execution_count": 54
        },
        {
          "output_type": "display_data",
          "data": {
            "text/plain": [
              "<Figure size 648x360 with 1 Axes>"
            ],
            "image/png": "[encoded data removed]"
          },
          "metadata": {}
        }
      ]
    },
    {
      "cell_type": "code",
      "source": [
        "#Top 10 countries\n",
        "top_countries = pd.DataFrame(orcs2['Country'].value_counts().sort_values(ascending = False).reset_index())\n",
        "top_countries['Country %']= top_countries['Country']*100/orcs2['Country'].count()\n",
        "top_countries.rename(columns = {'index':'Country','Country':'TotalCounts'},inplace = True)\n",
        "fig, ax = plt.subplots(figsize = (10,7))\n",
        "splot = sns.barplot(x='Country',y='TotalCounts',data = top_countries[:10], lw = 3)\n",
        "plt.title(\"Top 1O Customers.\")\n",
        "plt.xlabel('Countries')\n",
        "plt.ylabel('Count')\n"
      ],
      "metadata": {
        "colab": {
          "base_uri": "https://localhost:8080/",
          "height": 481
        },
        "id": "g_yKykiMRxzU",
        "outputId": "3c47b217-a3fa-492e-93b2-bfae28b3447c"
      },
      "execution_count": null,
      "outputs": [
        {
          "output_type": "execute_result",
          "data": {
            "text/plain": [
              "Text(0, 0.5, 'Count')"
            ]
          },
          "metadata": {},
          "execution_count": 61
        },
        {
          "output_type": "display_data",
          "data": {
            "text/plain": [
              "<Figure size 720x504 with 1 Axes>"
            ],
            "image/png": "[encoded data removed]"
          },
          "metadata": {}
        }
      ]
    },
    {
      "cell_type": "code",
      "source": [
        "#Top 5 Products\n",
        "TopProducts = pd.DataFrame(orcs2['Description'].value_counts().sort_values(ascending = False).reset_index())\n",
        "TopProducts['Description %']= TopProducts['Description']*100/orcs2['Description'].count()\n",
        "TopProducts.rename(columns = {'index':'Description','Description':'TotalCounts'},inplace = True)\n",
        "fig, ax = plt.subplots(figsize = (20,9))\n",
        "plot3 = sns.barplot(x='Description',y='TotalCounts',data = TopProducts[:5], lw = 3)\n",
        "plt.title('Top 10 Products purchased ')\n",
        "plt.xlabel('Description')\n",
        "plt.ylabel('Count')\n",
        "\n",
        "\n"
      ],
      "metadata": {
        "colab": {
          "base_uri": "https://localhost:8080/",
          "height": 578
        },
        "id": "e25GyzlKSNnu",
        "outputId": "44cf1b79-0957-4489-f1be-589eff14d1c1"
      },
      "execution_count": null,
      "outputs": [
        {
          "output_type": "execute_result",
          "data": {
            "text/plain": [
              "Text(0, 0.5, 'Count')"
            ]
          },
          "metadata": {},
          "execution_count": 67
        },
        {
          "output_type": "display_data",
          "data": {
            "text/plain": [
              "<Figure size 1440x648 with 1 Axes>"
            ],
            "image/png": "[encoded data removed]"
          },
          "metadata": {}
        }
      ]
    },
    {
      "cell_type": "markdown",
      "source": [
        "Top months of purchase"
      ],
      "metadata": {
        "id": "7PdnS3YES7QJ"
      }
    },
    {
      "cell_type": "code",
      "source": [
        "def PLOT(plot, feature):\n",
        "    total = len(feature)\n",
        "    for p in plot.patches:\n",
        "        percentage = '{:.1f}%'.format(100 * p.get_height()/total)\n",
        "        x = p.get_x() + p.get_width()/ 10-0.05 \n",
        "        y = p.get_y() + p.get_height()\n",
        "        ax.annotate(percentage, (x, y), size = 12)\n",
        "       \n",
        "    plt.show()"
      ],
      "metadata": {
        "id": "3xPINpIBTC48"
      },
      "execution_count": null,
      "outputs": []
    },
    {
      "cell_type": "code",
      "source": [
        "ax = sns.countplot(orcs2['Invoice_Month'])\n",
        "PLOT(ax, orcs2['Invoice_Month'])\n",
        "plt.figure(figsize=(10,7))\n",
        "plt.xticks(rotation=60)\n"
      ],
      "metadata": {
        "colab": {
          "base_uri": "https://localhost:8080/",
          "height": 834
        },
        "id": "duSAr3-mTI0c",
        "outputId": "322f9bb4-fad6-4e1e-83b9-a4d7d8dad9fe"
      },
      "execution_count": null,
      "outputs": [
        {
          "output_type": "display_data",
          "data": {
            "text/plain": [
              "<Figure size 432x288 with 1 Axes>"
            ],
            "image/png": "[encoded data removed]"
          },
          "metadata": {}
        },
        {
          "output_type": "execute_result",
          "data": {
            "text/plain": [
              "(array([0. , 0.2, 0.4, 0.6, 0.8, 1. ]),\n",
              " [Text(0, 0, ''),\n",
              "  Text(0, 0, ''),\n",
              "  Text(0, 0, ''),\n",
              "  Text(0, 0, ''),\n",
              "  Text(0, 0, ''),\n",
              "  Text(0, 0, '')])"
            ]
          },
          "metadata": {},
          "execution_count": 83
        },
        {
          "output_type": "display_data",
          "data": {
            "text/plain": [
              "<Figure size 720x504 with 1 Axes>"
            ],
            "image/png": "[encoded data removed]"
          },
          "metadata": {}
        }
      ]
    },
    {
      "cell_type": "code",
      "source": [
        "ax = sns.countplot(orcs2['Invoice_Month'])\n",
        "PLOT(ax, orcs2['Invoice_Month'])\n",
        "plt.figure(figsize=(10,7))\n",
        "plt.xticks(rotation=90)"
      ],
      "metadata": {
        "id": "oi7EywvHxrIz",
        "outputId": "5820f1eb-54d1-4062-cac1-9f8252c0c1d7",
        "colab": {
          "base_uri": "https://localhost:8080/",
          "height": 831
        }
      },
      "execution_count": null,
      "outputs": [
        {
          "output_type": "display_data",
          "data": {
            "text/plain": [
              "<Figure size 432x288 with 1 Axes>"
            ],
            "image/png": "[encoded data removed]"
          },
          "metadata": {}
        },
        {
          "output_type": "execute_result",
          "data": {
            "text/plain": [
              "(array([0. , 0.2, 0.4, 0.6, 0.8, 1. ]),\n",
              " [Text(0, 0, ''),\n",
              "  Text(0, 0, ''),\n",
              "  Text(0, 0, ''),\n",
              "  Text(0, 0, ''),\n",
              "  Text(0, 0, ''),\n",
              "  Text(0, 0, '')])"
            ]
          },
          "metadata": {},
          "execution_count": 84
        },
        {
          "output_type": "display_data",
          "data": {
            "text/plain": [
              "<Figure size 720x504 with 1 Axes>"
            ],
            "image/png": "[encoded data removed]"
          },
          "metadata": {}
        }
      ]
    },
    {
      "cell_type": "code",
      "source": [
        "import seaborn as sns\n",
        "import matplotlib.pyplot as plt\n",
        "\n",
        "# Create a countplot using Seaborn\n",
        "ax = sns.countplot(orcs2['Invoice_Month'])\n",
        "\n",
        "# Set x-axis labels rotation to 90 degrees\n",
        "plt.xticks(rotation=90)\n",
        "\n",
        "# Add percentage labels to the bars\n",
        "total = float(len(orcs2['Invoice_Month']))\n",
        "for p in ax.patches:\n",
        "    height = p.get_height()\n",
        "    ax.annotate('{:.1%}'.format(height/total), \n",
        "                (p.get_x()+p.get_width()/2., height), \n",
        "                ha='center', va='bottom', xytext=(0,5),\n",
        "                textcoords='offset points')\n",
        "\n",
        "# Show the modified plot and close any additional empty plots\n",
        "plt.show()\n"
      ],
      "metadata": {
        "id": "qRPZ48cjzZ3g",
        "outputId": "e3c48e75-6d04-41d0-b903-a232f4db3844",
        "colab": {
          "base_uri": "https://localhost:8080/",
          "height": 344
        }
      },
      "execution_count": null,
      "outputs": [
        {
          "output_type": "display_data",
          "data": {
            "text/plain": [
              "<Figure size 432x288 with 1 Axes>"
            ],
            "image/png": "[encoded data removed]"
          },
          "metadata": {}
        }
      ]
    },
    {
      "cell_type": "code",
      "source": [
        "import seaborn as sns\n",
        "import matplotlib.pyplot as plt\n",
        "\n",
        "# Create a countplot using Seaborn\n",
        "ax = sns.countplot(orcs2['Invoice_Month'])\n",
        "\n",
        "# Set x-axis labels rotation to 90 degrees\n",
        "plt.xticks(rotation=90)\n",
        "\n",
        "# Pass the plot object to a custom PLOT() function (optional)\n",
        "# PLOT(ax, orcs2['Invoice_Month'])\n",
        "\n",
        "# Show the modified plot and close any additional empty plots\n",
        "plt.show()\n"
      ],
      "metadata": {
        "id": "3bMYTwlUyHrj",
        "outputId": "934f4e94-a2ae-4e36-da0d-e8a0b3f271de",
        "colab": {
          "base_uri": "https://localhost:8080/",
          "height": 336
        }
      },
      "execution_count": null,
      "outputs": [
        {
          "output_type": "display_data",
          "data": {
            "text/plain": [
              "<Figure size 432x288 with 1 Axes>"
            ],
            "image/png": "[encoded data removed]"
          },
          "metadata": {}
        }
      ]
    },
    {
      "cell_type": "code",
      "source": [
        "ax = sns.countplot(orcs2['Invoice_Day'])\n",
        "PLOT(ax, orcs2['Invoice_Day'])"
      ],
      "metadata": {
        "colab": {
          "base_uri": "https://localhost:8080/",
          "height": 285
        },
        "id": "zWJrSdGKTWq0",
        "outputId": "39b57824-16b5-4e99-ce23-8b398d299c6e"
      },
      "execution_count": null,
      "outputs": [
        {
          "output_type": "display_data",
          "data": {
            "text/plain": [
              "<Figure size 432x288 with 1 Axes>"
            ],
            "image/png": "[encoded data removed]"
          },
          "metadata": {}
        }
      ]
    },
    {
      "cell_type": "code",
      "source": [
        "ax = sns.countplot(orcs2['Invoice_Hour'])\n",
        "PLOT(ax, orcs2['Invoice_Hour'])"
      ],
      "metadata": {
        "colab": {
          "base_uri": "https://localhost:8080/",
          "height": 285
        },
        "id": "rYnNLutiTelr",
        "outputId": "e13f4879-9e61-4a0a-9aa6-7e322161559d"
      },
      "execution_count": null,
      "outputs": [
        {
          "output_type": "display_data",
          "data": {
            "text/plain": [
              "<Figure size 432x288 with 1 Axes>"
            ],
            "image/png": "[encoded data removed]"
          },
          "metadata": {}
        }
      ]
    },
    {
      "cell_type": "code",
      "source": [
        "# Distribution of total expenditure\n",
        "plt.figure(figsize=(15,10))\n",
        "sns.distplot(np.log1p(orcs2['TotalExpenditure']))"
      ],
      "metadata": {
        "id": "Kh0mGOlrTkGF"
      },
      "execution_count": null,
      "outputs": []
    },
    {
      "cell_type": "markdown",
      "source": [
        "RFM Segmentation\n",
        "Recency,Frequencyand Monetary(RFM)is a technique to evaluate customers based on their transactions.The evaluation is based on;\n",
        "\n",
        "How recent their last transaction was(Recency)?\n",
        "\n",
        "How many transactions they have made in the last year(Frequency)?\n",
        "\n",
        "What was the value of their transaction was(Monetary)?\n"
      ],
      "metadata": {
        "id": "QPJ0tnaHTtjx"
      }
    },
    {
      "cell_type": "code",
      "source": [
        "#Calculating RFM scores\n",
        "import datetime as dt\n",
        "LD = dt.datetime(2011,12,10)\n",
        "#Creating RFM scores for each customer\n",
        "RFM = orcs2.groupby('CustomerID').agg({'InvoiceDate': lambda x: (LD - x.max()).days, 'InvoiceNo': lambda x: len(x), 'TotalExpenditure': lambda x: x.sum()})\n",
        "\n",
        "#Converting Invoice Date into type int\n",
        "RFM['InvoiceDate'] = RFM['InvoiceDate'].astype(int)\n",
        "\n",
        "#Rename column names to Recency, Frequency and Monetary\n",
        "RFM.rename(columns={'InvoiceDate': 'Recency', \n",
        "                         'InvoiceNo': 'Frequency', \n",
        "                         'TotalExpenditure': 'Monetary'}, inplace=True)\n",
        "\n",
        "RFM.reset_index().head()\n"
      ],
      "metadata": {
        "id": "rQBV10hXT19B"
      },
      "execution_count": null,
      "outputs": []
    },
    {
      "cell_type": "code",
      "source": [
        "RFM.info()"
      ],
      "metadata": {
        "id": "HfpSneedUMQM"
      },
      "execution_count": null,
      "outputs": []
    },
    {
      "cell_type": "code",
      "source": [
        "RFM.shape"
      ],
      "metadata": {
        "id": "GnHx2x0YUPMy"
      },
      "execution_count": null,
      "outputs": []
    },
    {
      "cell_type": "code",
      "source": [
        "#RFM descriptives\n",
        "RFM.describe()"
      ],
      "metadata": {
        "id": "aCalk-erUT_Y"
      },
      "execution_count": null,
      "outputs": []
    },
    {
      "cell_type": "code",
      "source": [
        "plt.figure(figsize=(15,10))\n",
        "sns.distplot(RFM['Recency'])"
      ],
      "metadata": {
        "id": "6rjqi3pPUWXN"
      },
      "execution_count": null,
      "outputs": []
    },
    {
      "cell_type": "code",
      "source": [
        "plt.figure(figsize=(15,10))\n",
        "sns.distplot(RFM['Frequency'])"
      ],
      "metadata": {
        "id": "0aNSirPHUZ2x"
      },
      "execution_count": null,
      "outputs": []
    },
    {
      "cell_type": "code",
      "source": [
        "plt.figure(figsize=(15,10))\n",
        "sns.distplot(RFM['Monetary'])"
      ],
      "metadata": {
        "id": "tCXKEv27UfQ4"
      },
      "execution_count": null,
      "outputs": []
    },
    {
      "cell_type": "code",
      "source": [
        "#log trnsformation\n",
        "RFM['Recency'] = np.log(RFM['Recency']+1) \n",
        "RFM['Frequency'] = np.log(RFM['Frequency']+1)\n",
        "RFM['Monetary'] = np.log(RFM['Monetary']+1)"
      ],
      "metadata": {
        "id": "iMIkHK4BUnVB"
      },
      "execution_count": null,
      "outputs": []
    },
    {
      "cell_type": "code",
      "source": [
        "fig, axis = plt.subplots(nrows=1, ncols= 3, figsize=(20,10))\n",
        "sns.histplot(RFM['Recency'], ax=axis[0])\n",
        "sns.histplot(RFM['Frequency'], ax=axis[1])\n",
        "sns.histplot(RFM['Monetary'], ax=axis[2])\n",
        "fig.suptitle(\"Data distribution after log transform\", size=25)"
      ],
      "metadata": {
        "id": "61rf_UrhUqlk"
      },
      "execution_count": null,
      "outputs": []
    },
    {
      "cell_type": "code",
      "source": [
        "from mpl_toolkits.mplot3d import Axes3D"
      ],
      "metadata": {
        "id": "ggqI9WqKUw84"
      },
      "execution_count": null,
      "outputs": []
    },
    {
      "cell_type": "code",
      "source": [
        "# plot data points in 3D space\n",
        "fig = plt.figure(figsize=(8,8))\n",
        "ax = Axes3D(fig)\n",
        "x = RFM['Recency']\n",
        "y = RFM['Frequency']\n",
        "z = RFM['Monetary']\n",
        "ax.scatter(x, y, z, marker='.')\n",
        "ax.set_xlabel('Recency')\n",
        "ax.set_ylabel('Frequency')\n",
        "ax.set_zlabel('Monetary')\n",
        "plt.title(\"Data Visualization\", size=35)"
      ],
      "metadata": {
        "id": "5lsEA93CVGBU"
      },
      "execution_count": null,
      "outputs": []
    },
    {
      "cell_type": "code",
      "source": [
        "RFM.shape"
      ],
      "metadata": {
        "id": "nXbguxWNVQyf"
      },
      "execution_count": null,
      "outputs": []
    },
    {
      "cell_type": "markdown",
      "source": [
        "Deciding on Optimal CLUSTERS"
      ],
      "metadata": {
        "id": "RWQ-5xsJViun"
      }
    },
    {
      "cell_type": "markdown",
      "source": [
        "Hierachial clustering"
      ],
      "metadata": {
        "id": "7l6Vgv0SVkq5"
      }
    },
    {
      "cell_type": "markdown",
      "source": [
        "It is used for taking decision on number of clusters."
      ],
      "metadata": {
        "id": "2h7Qlg1sVnk_"
      }
    },
    {
      "cell_type": "code",
      "source": [
        "rcParams['figure.figsize'] = 30, 15\n",
        "HC = AgglomerativeClustering(affinity = 'euclidean', linkage = 'ward')\n",
        "yHC = HC.fit_predict(RFM)"
      ],
      "metadata": {
        "id": "WkwWj5SoVqYO"
      },
      "execution_count": null,
      "outputs": []
    },
    {
      "cell_type": "code",
      "source": [
        "import scipy.cluster.hierarchy as sch\n",
        "dendrogram = sch.dendrogram(sch.linkage(RFM, method = 'ward'))\n",
        "plt.title('Dendrogram',fontweight = 'bold')\n",
        "plt.xlabel('Customers',fontweight = 'bold')\n",
        "plt.ylabel('Euclidean Distances',fontweight = 'bold')\n",
        "plt.show()"
      ],
      "metadata": {
        "id": "IQYuCeBmVtzt"
      },
      "execution_count": null,
      "outputs": []
    },
    {
      "cell_type": "markdown",
      "source": [
        "Dendrogram is usually subjective as it differs based on viewer. However, we can specifically determine the clusters through a euclidean distance based threshold value. I am keeping the Threshold cut off of 50 euclidean."
      ],
      "metadata": {
        "id": "yThQJfleZDtc"
      }
    },
    {
      "cell_type": "code",
      "source": [
        "max_d = 50\n",
        "dendrogram = sch.dendrogram(sch.linkage(RFM, method = 'ward'))\n",
        "plt.axhline(y = max_d,c = 'k')\n",
        "plt.title('Dendrogram',fontweight = 'bold')\n",
        "plt.xlabel('Customers',fontweight = 'bold')\n",
        "plt.ylabel('Euclidean Distances',fontweight = 'bold')\n",
        "plt.show()"
      ],
      "metadata": {
        "id": "H5qnlr-AkcbJ"
      },
      "execution_count": null,
      "outputs": []
    },
    {
      "cell_type": "markdown",
      "source": [
        "Based on the cut-off we can decide to select 4 optimal clusters."
      ],
      "metadata": {
        "id": "CX-Tq1TTkiZR"
      }
    },
    {
      "cell_type": "markdown",
      "source": [
        "K-Means Clustering"
      ],
      "metadata": {
        "id": "3cNU2vPMklrk"
      }
    },
    {
      "cell_type": "code",
      "source": [
        "from sklearn.cluster import KMeans"
      ],
      "metadata": {
        "id": "XEAnKXeeknyg"
      },
      "execution_count": null,
      "outputs": []
    },
    {
      "cell_type": "code",
      "source": [
        "#elbow plot\n",
        "from yellowbrick.cluster import KElbowVisualizer\n",
        "model = KMeans()\n",
        "# k is range of number of clusters.\n",
        "visualizer = KElbowVisualizer(model, k=(2,15), timings= True)\n",
        "visualizer.fit(RFM)        # Fit data to visualizer\n",
        "visualizer.show()"
      ],
      "metadata": {
        "id": "x151gtb8kq1S"
      },
      "execution_count": null,
      "outputs": []
    },
    {
      "cell_type": "markdown",
      "source": [
        "The elbow point is achieved with 5 clusters which is highlighted by the function itself. The function also informs us about how much time was needed to plot models for various numbers of clusters through the green line."
      ],
      "metadata": {
        "id": "oiN7uBBVk06L"
      }
    },
    {
      "cell_type": "code",
      "source": [
        "# Silhouette Score for K means\n",
        "# Import ElbowVisualizer\n",
        "model = KMeans()\n",
        "# k is range of number of clusters.\n",
        "visualizer = KElbowVisualizer(model, k=(2,15),metric='silhouette', timings= True)\n",
        "visualizer.fit(RFM)        # Fit the data to the visualizer\n",
        "visualizer.show()  "
      ],
      "metadata": {
        "id": "5S-jUJS4k42M"
      },
      "execution_count": null,
      "outputs": []
    },
    {
      "cell_type": "markdown",
      "source": [
        "The Silhouette Coefficient(SC) tells us if individual points are correctly assigned to their clusters. We can use the following thumb rules while using Silhouette Coefficient:\n",
        "\n",
        "1.SC close to 0 means that the point is between two clusters.\n",
        "\n",
        "2.If it is closer to -1, then we would be better off assigning it to the other clusters.\n",
        "\n",
        "3.If SC is close to 1, then the point belongs to the ‘correct’ cluster.\n",
        "\n",
        "Here we can see the optimal clusters through siloutte method is 2."
      ],
      "metadata": {
        "id": "gUwQDSu5lIx1"
      }
    },
    {
      "cell_type": "code",
      "source": [
        "# Calinski Harabasz Score for K means\n",
        "# k is range of number of clusters.\n",
        "visualizer = KElbowVisualizer(model, k=(2,15),metric='calinski_harabasz', timings= True)\n",
        "visualizer.fit(RFM)        # Fit the data to the visualizer\n",
        "visualizer.show()        # Finalize and render the figure  "
      ],
      "metadata": {
        "id": "rFpOVOj6lO_E"
      },
      "execution_count": null,
      "outputs": []
    },
    {
      "cell_type": "markdown",
      "source": [
        "Calinski Harabasz Index is ideal when number of clusters is 2 for the K means clustering algorithm."
      ],
      "metadata": {
        "id": "EguUkxG5lTGh"
      }
    },
    {
      "cell_type": "code",
      "source": [
        "# Davies Bouldin score for K means\n",
        "from sklearn.datasets import load_iris\n",
        "from sklearn.metrics import davies_bouldin_score"
      ],
      "metadata": {
        "id": "IRcRJ8b5lfI1"
      },
      "execution_count": null,
      "outputs": []
    },
    {
      "cell_type": "code",
      "source": [
        "iris = load_iris()\n",
        "RFM = iris.data[:, :2]"
      ],
      "metadata": {
        "id": "bKEaBCYbliV8"
      },
      "execution_count": null,
      "outputs": []
    },
    {
      "cell_type": "code",
      "source": [
        "kmeans = KMeans(n_clusters=4, random_state=30)\n",
        "labels = kmeans.fit_predict(RFM)"
      ],
      "metadata": {
        "id": "PavC7xjylm30"
      },
      "execution_count": null,
      "outputs": []
    },
    {
      "cell_type": "code",
      "source": [
        "db_index = davies_bouldin_score(RFM, labels)\n",
        "print(db_index)"
      ],
      "metadata": {
        "id": "7ui2ARUZlqPC"
      },
      "execution_count": null,
      "outputs": []
    },
    {
      "cell_type": "code",
      "source": [
        "results = {}\n",
        "\n",
        "for i in range(2,11):\n",
        "    kmeans = KMeans(n_clusters=i, random_state=30)\n",
        "    labels = kmeans.fit_predict(RFM)\n",
        "    db_index = davies_bouldin_score(RFM, labels)\n",
        "    results.update({i: db_index})"
      ],
      "metadata": {
        "id": "_fLx6Y4LltKk"
      },
      "execution_count": null,
      "outputs": []
    },
    {
      "cell_type": "code",
      "source": [
        "plt.plot(list(results.keys()), list(results.values()))\n",
        "plt.xlabel(\"Number of clusters\")\n",
        "plt.ylabel(\"Davies-Boulding Index\")\n",
        "plt.show()"
      ],
      "metadata": {
        "id": "mFVCiZc1lwGn"
      },
      "execution_count": null,
      "outputs": []
    },
    {
      "cell_type": "markdown",
      "source": [
        "Davies Bouldin score is minimized with 3 clusters and can be considered for the k means algorithm\n",
        "\n"
      ],
      "metadata": {
        "id": "VvU7Jym-lzMg"
      }
    },
    {
      "cell_type": "code",
      "source": [
        "# BIC for GMM\n",
        "from sklearn.mixture import GaussianMixture\n",
        "n_components = range(1, 15)\n",
        "covariance_type = ['spherical', 'tied', 'diag', 'full']\n",
        "BICscore=[]\n",
        "for cov in covariance_type:\n",
        "    for n_comp in n_components:\n",
        "        gmm=GaussianMixture(n_components=n_comp,covariance_type=cov)\n",
        "        gmm.fit(RFM)\n",
        "        BICscore.append((cov,n_comp,gmm.bic(RFM)))\n",
        "BICscore"
      ],
      "metadata": {
        "id": "tnCv9OLQl0E1"
      },
      "execution_count": null,
      "outputs": []
    },
    {
      "cell_type": "markdown",
      "source": [
        "The lower the BIC score, better is the model.try out various combinations of the parameters and select the model with the lowest BIC score. Based on low average BIC scores on we can choose the optimal clusters to be 3 ."
      ],
      "metadata": {
        "id": "OQfCeznml7EM"
      }
    },
    {
      "cell_type": "markdown",
      "source": [
        "# **SUMMARY**"
      ],
      "metadata": {
        "id": "5d-2Wb_jl9Sh"
      }
    },
    {
      "cell_type": "code",
      "source": [
        "dictr = {\"Model_Name\":[\"Hierachicalclustering-Dendrogram \",\"KMeans-Distortion score Elbow method  \", \"KMeans-Silhouette\",\"KMeans-Calinski Harbasz score\",\"KMeans-Davies Bouldin score\",\"BIC-GMM \"],\n",
        "  \"Data\":[\"RFM\", \"RFM\", \"RFM\",\"RFM\",\"RFM\",\"RFM\"],\n",
        "  \"Optimal_Number_of_cluster\":[4,6,2,2,3,3]}"
      ],
      "metadata": {
        "id": "cZ9PSH-RmBBl"
      },
      "execution_count": null,
      "outputs": []
    },
    {
      "cell_type": "code",
      "source": [
        "Summary = pd.DataFrame(dictr)"
      ],
      "metadata": {
        "id": "faFovHrgmENV"
      },
      "execution_count": null,
      "outputs": []
    },
    {
      "cell_type": "code",
      "source": [
        "Summary.head(6)"
      ],
      "metadata": {
        "id": "nmM5OAT5mHOA"
      },
      "execution_count": null,
      "outputs": []
    },
    {
      "cell_type": "markdown",
      "source": [
        "Multiple techniques to detect optimal clusters shows varied results. We can take mean value(3.33) as the number of clusters,3"
      ],
      "metadata": {
        "id": "qLSmACNNmLDU"
      }
    },
    {
      "cell_type": "markdown",
      "source": [
        "K=3 have optimal score. Let's visualize these clusters.\n",
        "\n"
      ],
      "metadata": {
        "id": "gS6jqCzEmSlm"
      }
    },
    {
      "cell_type": "code",
      "source": [
        "RFM.shape"
      ],
      "metadata": {
        "id": "MDiXEn6gmpWm"
      },
      "execution_count": null,
      "outputs": []
    },
    {
      "cell_type": "code",
      "source": [
        "Clusters = KMeans(n_clusters=3, random_state=1)\n",
        "cluster_labels = Clusters.fit_predict(RFM)"
      ],
      "metadata": {
        "id": "q2OvRc_HnTLh"
      },
      "execution_count": null,
      "outputs": []
    },
    {
      "cell_type": "code",
      "source": [
        "fig = plt.figure(figsize=(8,8))\n",
        "ax = Axes3D(fig)\n",
        "x = RFM['Recency']\n",
        "y = RFM['Frequency']\n",
        "z = RFM['Monetary']\n",
        "colors = cm.nipy_spectral(cluster_labels.astype(float) / 3)\n",
        "ax.scatter(x, y, z, c=colors, marker='.')\n",
        "ax.set_xlabel('Recency')\n",
        "ax.set_ylabel('Frequency')\n",
        "ax.set_zlabel('Monetary')\n",
        "plt.title(\"Data Visualization\", size=25)"
      ],
      "metadata": {
        "id": "txa_j4XAnZXO"
      },
      "execution_count": null,
      "outputs": []
    },
    {
      "cell_type": "code",
      "source": [],
      "metadata": {
        "id": "DsZqQuWItcip"
      },
      "execution_count": null,
      "outputs": []
    },
    {
      "cell_type": "code",
      "source": [
        "fig = plt.figure(figsize=(8,8))\n",
        "ax = Axes3D(fig)\n",
        "x = RFM['Recency']\n",
        "y = RFM['Frequency']\n",
        "z = RFM['Monetary']\n",
        "colors = cm.nipy_spectral(cluster_labels.astype(float) / 3)\n",
        "ax.scatter(x, y, z, c=colors, marker='.')\n",
        "ax.set_xlabel('Recency')\n",
        "ax.set_ylabel('Frequency')\n",
        "ax.set_zlabel('Monetary')\n",
        "plt.title(\"Data Visualization\", size=25)"
      ],
      "metadata": {
        "id": "3wALAU7g4tY8"
      },
      "execution_count": null,
      "outputs": []
    },
    {
      "cell_type": "code",
      "source": [
        "# add cluster label as varable\n",
        "RFM['Cluster'] = cluster_labels\n",
        "RFM.head()"
      ],
      "metadata": {
        "id": "ZbnBFSwlnpz5"
      },
      "execution_count": null,
      "outputs": []
    },
    {
      "cell_type": "code",
      "source": [],
      "metadata": {
        "id": "ibmPph1UtjIq"
      },
      "execution_count": null,
      "outputs": []
    },
    {
      "cell_type": "code",
      "source": [
        "# add cluster label as varable\n",
        "RFM['Cluster'] = cluster_labels\n",
        "RFM.head()"
      ],
      "metadata": {
        "id": "rHjhpNrb4-ny"
      },
      "execution_count": null,
      "outputs": []
    },
    {
      "cell_type": "code",
      "source": [
        "RFMfinal = RFM.groupby('Cluster').mean()"
      ],
      "metadata": {
        "id": "ZVeDpqd0n3EP"
      },
      "execution_count": null,
      "outputs": []
    },
    {
      "cell_type": "code",
      "source": [],
      "metadata": {
        "id": "wgCzTF4WtwUR"
      },
      "execution_count": null,
      "outputs": []
    },
    {
      "cell_type": "code",
      "source": [
        "RFMfinal= RFMfinal.applymap(np.exp)\n",
        "RFMfinal = RFMfinal.applymap(int)\n",
        "RFMfinal"
      ],
      "metadata": {
        "id": "q6Zcledc_BHs"
      },
      "execution_count": null,
      "outputs": []
    },
    {
      "cell_type": "code",
      "source": [
        "DICTC = {\"CLUSTER\":[\"0\",\"1\", \"2\"],\n",
        "  \"Intepretation\":[\"At par recency,frequency and monetary spending\", \"most recent and frequent transaction and high monetary spending\", \"No recent or frequent transaction with least monetary spending\"],\n",
        "  \"Optimal_Number_of_cluster\":['MODERATELY LOYAL CUSTOMERS','LOYAL(TARGET)CUSTOMERS','AT RISK CUSTOMERS']}"
      ],
      "metadata": {
        "id": "qrGzHxxY-qQ8"
      },
      "execution_count": null,
      "outputs": []
    },
    {
      "cell_type": "code",
      "source": [
        "InterpretationSummary = pd.DataFrame(DICTC)"
      ],
      "metadata": {
        "id": "R5H6-9q8CJc2"
      },
      "execution_count": null,
      "outputs": []
    },
    {
      "cell_type": "code",
      "source": [
        "InterpretationSummary.head()"
      ],
      "metadata": {
        "id": "e2dcxC4tCgzk"
      },
      "execution_count": null,
      "outputs": []
    }
  ]
}