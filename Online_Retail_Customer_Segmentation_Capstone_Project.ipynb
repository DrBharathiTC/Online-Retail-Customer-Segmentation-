{
  "nbformat": 4,
  "nbformat_minor": 0,
  "metadata": {
    "kernelspec": {
      "display_name": "Python 3",
      "language": "python",
      "name": "python3"
    },
    "language_info": {
      "codemirror_mode": {
        "name": "ipython",
        "version": 3
      },
      "file_extension": ".py",
      "mimetype": "text/x-python",
      "name": "python",
      "nbconvert_exporter": "python",
      "pygments_lexer": "ipython3",
      "version": "3.6.6"
    },
    "colab": {
      "provenance": [],
      "include_colab_link": true
    }
  },
  "cells": [
    {
      "cell_type": "markdown",
      "metadata": {
        "id": "view-in-github",
        "colab_type": "text"
      },
      "source": [
        "<a href=\"https://colab.research.google.com/github/DrBharathiTC/Online-Retail-Customer-Segmentation-/blob/main/Online_Retail_Customer_Segmentation_Capstone_Project.ipynb\" target=\"_parent\"><img src=\"https://colab.research.google.com/assets/colab-badge.svg\" alt=\"Open In Colab\"/></a>"
      ]
    },
    {
      "cell_type": "markdown",
      "metadata": {
        "id": "tOGC-qoyhJeX"
      },
      "source": [
        "# <b><u> Project Title : Extraction/identification of major topics & themes discussed in news articles. </u></b>"
      ]
    },
    {
      "cell_type": "markdown",
      "metadata": {
        "id": "Y06xIdG26kRF"
      },
      "source": [
        "## <b> Problem Description </b>\n",
        "\n",
        "### In this project, your task is to identify major customer segments on a transnational data set which contains all the transactions occurring between 01/12/2010 and 09/12/2011 for a UK-based and registered non-store online retail.The company mainly sells unique all-occasion gifts. Many customers of the company are wholesalers."
      ]
    },
    {
      "cell_type": "markdown",
      "metadata": {
        "id": "AlLxAtlziMbP"
      },
      "source": [
        "## <b> Data Description </b>\n",
        "\n",
        "### <b>Attribute Information: </b>\n",
        "\n",
        "* ### InvoiceNo: Invoice number. Nominal, a 6-digit integral number uniquely assigned to each transaction. If this code starts with letter 'c', it indicates a cancellation.\n",
        "* ### StockCode: Product (item) code. Nominal, a 5-digit integral number uniquely assigned to each distinct product.\n",
        "* ### Description: Product (item) name. Nominal.\n",
        "* ### Quantity: The quantities of each product (item) per transaction. Numeric.\n",
        "* ### InvoiceDate: Invice Date and time. Numeric, the day and time when each transaction was generated.\n",
        "* ### UnitPrice: Unit price. Numeric, Product price per unit in sterling.\n",
        "* ### CustomerID: Customer number. Nominal, a 5-digit integral number uniquely assigned to each customer.\n",
        "* ### Country: Country name. Nominal, the name of the country where each customer resides."
      ]
    },
    {
      "cell_type": "code",
      "metadata": {
        "id": "dByMsuzT8Tnw"
      },
      "source": [
        "import numpy as np\n",
        "import pandas as pd\n",
        "from numpy import math\n",
        "import seaborn as sns\n",
        "from datetime import datetime\n",
        "from sklearn.cluster import AgglomerativeClustering\n",
        "\n",
        "import warnings\n",
        "from pylab import rcParams\n",
        "%matplotlib inline\n",
        "import matplotlib.pyplot as plt\n",
        "import seaborn as sns; sns.set()\n",
        "warnings.filterwarnings('ignore')"
      ],
      "execution_count": 4,
      "outputs": []
    },
    {
      "cell_type": "code",
      "source": [
        "from google.colab import drive\n",
        "drive.mount('/content/drive')"
      ],
      "metadata": {
        "colab": {
          "base_uri": "https://localhost:8080/"
        },
        "id": "Pcsi-uWonPEj",
        "outputId": "e1cfb58b-02b2-4568-f0f8-a07bd53b0f73"
      },
      "execution_count": 5,
      "outputs": [
        {
          "output_type": "stream",
          "name": "stdout",
          "text": [
            "Mounted at /content/drive\n"
          ]
        }
      ]
    },
    {
      "cell_type": "code",
      "source": [
        "orcs = pd.read_excel('/content/drive/My Drive/almabetter projects/Customer Segmentation/Online Retail.xlsx')"
      ],
      "metadata": {
        "id": "31k4b-27J90_"
      },
      "execution_count": 8,
      "outputs": []
    },
    {
      "cell_type": "code",
      "source": [
        "orcs.head(1000)"
      ],
      "metadata": {
        "id": "3hVrxMUPIpmn"
      },
      "execution_count": null,
      "outputs": []
    },
    {
      "cell_type": "code",
      "source": [
        "orcs.info()"
      ],
      "metadata": {
        "id": "S6jDp1x_IxH1"
      },
      "execution_count": null,
      "outputs": []
    },
    {
      "cell_type": "code",
      "source": [
        "orcs.shape"
      ],
      "metadata": {
        "id": "a6qnKPQBLPSi"
      },
      "execution_count": null,
      "outputs": []
    },
    {
      "cell_type": "code",
      "source": [
        "orcs.describe()"
      ],
      "metadata": {
        "id": "2g7eo8UKLjIC"
      },
      "execution_count": null,
      "outputs": []
    },
    {
      "cell_type": "markdown",
      "source": [
        "### **EDA**\n"
      ],
      "metadata": {
        "id": "baV7DBijLyRR"
      }
    },
    {
      "cell_type": "code",
      "source": [
        "#checking for null values\n",
        "orcs.isnull().sum()"
      ],
      "metadata": {
        "id": "X3_TQ24HL0rh"
      },
      "execution_count": null,
      "outputs": []
    },
    {
      "cell_type": "code",
      "source": [
        "#visualising null values\n",
        "sns.heatmap(orcs.isnull())"
      ],
      "metadata": {
        "id": "w_5RwdkbL5wr"
      },
      "execution_count": null,
      "outputs": []
    },
    {
      "cell_type": "markdown",
      "source": [
        "About 24.93% customer IDs are missing in the dataset and 0.27% product descriptions are missing these features cannot be imputed as they are unique for each customer, so we have to drop these variable values."
      ],
      "metadata": {
        "id": "9_h9ybwaMBmu"
      }
    },
    {
      "cell_type": "code",
      "source": [
        "orcs.dropna(axis = 0, inplace = True)\n",
        "orcs.shape"
      ],
      "metadata": {
        "id": "eNeGGs3OMEhb"
      },
      "execution_count": null,
      "outputs": []
    },
    {
      "cell_type": "code",
      "source": [
        "sns.heatmap(orcs.isnull())"
      ],
      "metadata": {
        "id": "go159VRtMLaN"
      },
      "execution_count": null,
      "outputs": []
    },
    {
      "cell_type": "code",
      "source": [
        "orcs.isnull().sum()"
      ],
      "metadata": {
        "id": "DXxXtxKNMbtx"
      },
      "execution_count": null,
      "outputs": []
    },
    {
      "cell_type": "code",
      "source": [
        "orcs.describe()"
      ],
      "metadata": {
        "id": "CU9t6bgENUO1"
      },
      "execution_count": null,
      "outputs": []
    },
    {
      "cell_type": "code",
      "source": [
        "#we need to drop produsts which are cancelled from the dataset. Cancelled data can be identified as \"InvoiceNo\" starting with 'C'.\n",
        "orcs['InvoiceNo'] = orcs['InvoiceNo'].astype('str')\n",
        "orcs2=orcs[~orcs['InvoiceNo'].str.contains('C')]"
      ],
      "metadata": {
        "id": "wiw9e8abNiry"
      },
      "execution_count": null,
      "outputs": []
    },
    {
      "cell_type": "code",
      "source": [
        "orcs2.shape"
      ],
      "metadata": {
        "id": "YiE6bKVXOhEz"
      },
      "execution_count": null,
      "outputs": []
    },
    {
      "cell_type": "markdown",
      "source": [
        "\n",
        "We can split 'InvoiceDate' variable as 'Iyear','Imonth','Iday'and'Ihour'."
      ],
      "metadata": {
        "id": "MXXckqOcPFoA"
      }
    },
    {
      "cell_type": "code",
      "source": [
        "orcs2[\"Invoice_Year\"] = orcs2['InvoiceDate'].dt.year\n",
        "orcs2['Invoice_Month'] = orcs2['InvoiceDate'].dt.strftime('%B')\n",
        "orcs2['Invoice_Day'] = orcs2['InvoiceDate'].dt.strftime('%A')\n",
        "orcs2['Invoice_Hour'] = orcs2['InvoiceDate'].dt.hour"
      ],
      "metadata": {
        "id": "Nm4FHBxGPHyG"
      },
      "execution_count": null,
      "outputs": []
    },
    {
      "cell_type": "code",
      "source": [
        "#We have the 'UnitPrice' and 'Quantity', through this we can calculate the 'TotalExpenditure' of each Invoice.\n",
        "orcs2['TotalExpenditure']=orcs2['Quantity']*orcs2['UnitPrice'] "
      ],
      "metadata": {
        "id": "hlfBjsdmP4qZ"
      },
      "execution_count": null,
      "outputs": []
    },
    {
      "cell_type": "code",
      "source": [
        "orcs2.head()"
      ],
      "metadata": {
        "id": "2eTP_iEUP-lj"
      },
      "execution_count": null,
      "outputs": []
    },
    {
      "cell_type": "code",
      "source": [
        "orcs2.info()"
      ],
      "metadata": {
        "id": "LypVEJthRNXU"
      },
      "execution_count": null,
      "outputs": []
    },
    {
      "cell_type": "code",
      "source": [
        "orcs2.describe()"
      ],
      "metadata": {
        "id": "MVsGluuaRP4f"
      },
      "execution_count": null,
      "outputs": []
    },
    {
      "cell_type": "markdown",
      "source": [
        "Lets find out the top\n",
        "\n",
        "1.customers\n",
        "\n",
        "2.countries with sales\n",
        "\n",
        "3.product"
      ],
      "metadata": {
        "id": "yLWlgVSHRXqi"
      }
    },
    {
      "cell_type": "code",
      "source": [
        "#Top 10 customers\n",
        "TopCustomers = pd.DataFrame(orcs2['CustomerID'].value_counts().sort_values(ascending = False).reset_index())\n",
        "TopCustomers.rename(columns = {'index':'CustomerID','CustomerID':'counts'},inplace = True)\n",
        "plt.figure(figsize = (9,5))\n",
        "plot1=sns.barplot(x = 'CustomerID',y = 'counts',palette= 'Set2',data = TopCustomers[:10])\n",
        "plt.xlabel('CustomerID')\n",
        "plt.ylabel('Frequency')\n",
        "plt.title(\"Top 1O Customers.\")\n"
      ],
      "metadata": {
        "id": "H4sPmMuDRct-"
      },
      "execution_count": null,
      "outputs": []
    },
    {
      "cell_type": "code",
      "source": [
        "#Top 10 countries\n",
        "top_countries = pd.DataFrame(orcs2['Country'].value_counts().sort_values(ascending = False).reset_index())\n",
        "top_countries['Country %']= top_countries['Country']*100/orcs2['Country'].count()\n",
        "top_countries.rename(columns = {'index':'Country','Country':'TotalCounts'},inplace = True)\n",
        "fig, ax = plt.subplots(figsize = (15,9))\n",
        "splot = sns.barplot(x='Country',y='TotalCounts',data = top_countries[:10], lw = 3)\n",
        "plt.title(\"Top 1O Customers.\")\n",
        "plt.xlabel('Countries')\n",
        "plt.ylabel('Count')\n"
      ],
      "metadata": {
        "id": "g_yKykiMRxzU"
      },
      "execution_count": null,
      "outputs": []
    },
    {
      "cell_type": "code",
      "source": [
        "#Top 5 Products\n",
        "TopProducts = pd.DataFrame(orcs2['Description'].value_counts().sort_values(ascending = False).reset_index())\n",
        "TopProducts['Description %']= TopProducts['Description']*100/orcs2['Description'].count()\n",
        "TopProducts.rename(columns = {'index':'Description','Description':'TotalCounts'},inplace = True)\n",
        "fig, ax = plt.subplots(figsize = (20,9))\n",
        "plot3 = sns.barplot(x='Description',y='TotalCounts',data = TopProducts[:5], lw = 3)\n",
        "plt.title('Top 10 Products purchased ')\n",
        "plt.xlabel('Description')\n",
        "plt.ylabel('Count')\n",
        "\n",
        "\n"
      ],
      "metadata": {
        "id": "e25GyzlKSNnu"
      },
      "execution_count": null,
      "outputs": []
    },
    {
      "cell_type": "markdown",
      "source": [
        "Top months of purchase"
      ],
      "metadata": {
        "id": "7PdnS3YES7QJ"
      }
    },
    {
      "cell_type": "code",
      "source": [
        "def PLOT(plot, feature):\n",
        "    total = len(feature)\n",
        "    for p in plot.patches:\n",
        "        percentage = '{:.1f}%'.format(100 * p.get_height()/total)\n",
        "        x = p.get_x() + p.get_width()/ 10-0.05 \n",
        "        y = p.get_y() + p.get_height()\n",
        "        ax.annotate(percentage, (x, y), size = 12)\n",
        "       \n",
        "    plt.show()"
      ],
      "metadata": {
        "id": "3xPINpIBTC48"
      },
      "execution_count": null,
      "outputs": []
    },
    {
      "cell_type": "code",
      "source": [
        "import seaborn as sns\n",
        "import matplotlib.pyplot as plt\n",
        "\n",
        "# Create a countplot using Seaborn\n",
        "ax = sns.countplot(orcs2['Invoice_Month'])\n",
        "\n",
        "# Set x-axis labels rotation to 90 degrees\n",
        "plt.xticks(rotation=90)\n",
        "\n",
        "# Show the modified plot and close any additional empty plots\n",
        "plt.show()\n"
      ],
      "metadata": {
        "id": "3bMYTwlUyHrj"
      },
      "execution_count": null,
      "outputs": []
    },
    {
      "cell_type": "code",
      "source": [
        "import seaborn as sns\n",
        "import matplotlib.pyplot as plt\n",
        "\n",
        "# Create a countplot using Seaborn\n",
        "ax = sns.countplot(orcs2['Invoice_Day'])\n",
        "\n",
        "# Set x-axis labels rotation to 90 degrees\n",
        "plt.xticks(rotation=90)\n",
        "\n",
        "\n",
        "# Show the modified plot and close any additional empty plots\n",
        "plt.show()\n"
      ],
      "metadata": {
        "id": "N0_9Hx5NeCxA"
      },
      "execution_count": null,
      "outputs": []
    },
    {
      "cell_type": "code",
      "source": [
        "import seaborn as sns\n",
        "import matplotlib.pyplot as plt\n",
        "\n",
        "# Create a countplot using Seaborn\n",
        "ax = sns.countplot(orcs2['Invoice_Hour'])\n",
        "\n",
        "# Set x-axis labels rotation to 90 degrees\n",
        "plt.xticks(rotation=90)\n",
        "\n",
        "\n",
        "# Show the modified plot and close any additional empty plots\n",
        "plt.show()"
      ],
      "metadata": {
        "id": "tOzdTN4peSu7"
      },
      "execution_count": null,
      "outputs": []
    },
    {
      "cell_type": "code",
      "source": [
        "# Distribution of total expenditure\n",
        "plt.figure(figsize=(15,10))\n",
        "sns.distplot(np.log1p(orcs2['TotalExpenditure']))"
      ],
      "metadata": {
        "id": "Kh0mGOlrTkGF"
      },
      "execution_count": null,
      "outputs": []
    },
    {
      "cell_type": "markdown",
      "source": [
        "RFM Segmentation\n",
        "Recency,Frequencyand Monetary(RFM)is a technique to evaluate customers based on their transactions.The evaluation is based on;\n",
        "\n",
        "How recent their last transaction was(Recency)?\n",
        "\n",
        "How many transactions they have made in the last year(Frequency)?\n",
        "\n",
        "What was the value of their transaction was(Monetary)?\n"
      ],
      "metadata": {
        "id": "QPJ0tnaHTtjx"
      }
    },
    {
      "cell_type": "code",
      "source": [
        "#Calculating RFM scores\n",
        "import datetime as dt\n",
        "LD = dt.datetime(2011,12,10)\n",
        "#Creating RFM scores for each customer\n",
        "RFM = orcs2.groupby('CustomerID').agg({'InvoiceDate': lambda x: (LD - x.max()).days, 'InvoiceNo': lambda x: len(x), 'TotalExpenditure': lambda x: x.sum()})\n",
        "\n",
        "#Converting Invoice Date into type int\n",
        "RFM['InvoiceDate'] = RFM['InvoiceDate'].astype(int)\n",
        "\n",
        "#Rename column names to Recency, Frequency and Monetary\n",
        "RFM.rename(columns={'InvoiceDate': 'Recency', \n",
        "                         'InvoiceNo': 'Frequency', \n",
        "                         'TotalExpenditure': 'Monetary'}, inplace=True)\n",
        "\n",
        "RFM.reset_index().head()\n"
      ],
      "metadata": {
        "id": "rQBV10hXT19B"
      },
      "execution_count": null,
      "outputs": []
    },
    {
      "cell_type": "code",
      "source": [
        "RFM.info()"
      ],
      "metadata": {
        "id": "HfpSneedUMQM"
      },
      "execution_count": null,
      "outputs": []
    },
    {
      "cell_type": "code",
      "source": [
        "RFM.shape"
      ],
      "metadata": {
        "id": "GnHx2x0YUPMy"
      },
      "execution_count": null,
      "outputs": []
    },
    {
      "cell_type": "code",
      "source": [
        "#RFM descriptives\n",
        "RFM.describe()"
      ],
      "metadata": {
        "id": "aCalk-erUT_Y"
      },
      "execution_count": null,
      "outputs": []
    },
    {
      "cell_type": "code",
      "source": [
        "plt.figure(figsize=(15,10))\n",
        "sns.distplot(RFM['Recency'])"
      ],
      "metadata": {
        "id": "6rjqi3pPUWXN"
      },
      "execution_count": null,
      "outputs": []
    },
    {
      "cell_type": "code",
      "source": [
        "plt.figure(figsize=(15,10))\n",
        "sns.distplot(RFM['Frequency'])"
      ],
      "metadata": {
        "id": "0aNSirPHUZ2x"
      },
      "execution_count": null,
      "outputs": []
    },
    {
      "cell_type": "code",
      "source": [
        "plt.figure(figsize=(15,10))\n",
        "sns.distplot(RFM['Monetary'])"
      ],
      "metadata": {
        "id": "tCXKEv27UfQ4"
      },
      "execution_count": null,
      "outputs": []
    },
    {
      "cell_type": "code",
      "source": [
        "#log trnsformation\n",
        "RFM['Recency'] = np.log(RFM['Recency']+1) \n",
        "RFM['Frequency'] = np.log(RFM['Frequency']+1)\n",
        "RFM['Monetary'] = np.log(RFM['Monetary']+1)"
      ],
      "metadata": {
        "id": "iMIkHK4BUnVB"
      },
      "execution_count": null,
      "outputs": []
    },
    {
      "cell_type": "code",
      "source": [
        "fig, axis = plt.subplots(nrows=1, ncols= 3, figsize=(20,10))\n",
        "sns.histplot(RFM['Recency'], ax=axis[0])\n",
        "sns.histplot(RFM['Frequency'], ax=axis[1])\n",
        "sns.histplot(RFM['Monetary'], ax=axis[2])\n",
        "fig.suptitle(\"Data distribution after log transform\", size=25)"
      ],
      "metadata": {
        "id": "61rf_UrhUqlk"
      },
      "execution_count": null,
      "outputs": []
    },
    {
      "cell_type": "code",
      "source": [
        "from mpl_toolkits.mplot3d import Axes3D"
      ],
      "metadata": {
        "id": "ggqI9WqKUw84"
      },
      "execution_count": null,
      "outputs": []
    },
    {
      "cell_type": "code",
      "source": [
        "# plot data points in 3D space\n",
        "fig = plt.figure(figsize=(8,8))\n",
        "ax = Axes3D(fig)\n",
        "x = RFM['Recency']\n",
        "y = RFM['Frequency']\n",
        "z = RFM['Monetary']\n",
        "ax.scatter(x, y, z, marker='.')\n",
        "ax.set_xlabel('Recency')\n",
        "ax.set_ylabel('Frequency')\n",
        "ax.set_zlabel('Monetary')\n",
        "plt.title(\"Data Visualization\", size=35)"
      ],
      "metadata": {
        "id": "5lsEA93CVGBU"
      },
      "execution_count": null,
      "outputs": []
    },
    {
      "cell_type": "code",
      "source": [
        "RFM.shape"
      ],
      "metadata": {
        "id": "nXbguxWNVQyf"
      },
      "execution_count": null,
      "outputs": []
    },
    {
      "cell_type": "markdown",
      "source": [
        "Deciding on Optimal CLUSTERS"
      ],
      "metadata": {
        "id": "RWQ-5xsJViun"
      }
    },
    {
      "cell_type": "markdown",
      "source": [
        "Hierachial clustering"
      ],
      "metadata": {
        "id": "7l6Vgv0SVkq5"
      }
    },
    {
      "cell_type": "markdown",
      "source": [
        "It is used for taking decision on number of clusters."
      ],
      "metadata": {
        "id": "2h7Qlg1sVnk_"
      }
    },
    {
      "cell_type": "code",
      "source": [
        "rcParams['figure.figsize'] = 30, 15\n",
        "HC = AgglomerativeClustering(affinity = 'euclidean', linkage = 'ward')\n",
        "yHC = HC.fit_predict(RFM)"
      ],
      "metadata": {
        "id": "WkwWj5SoVqYO"
      },
      "execution_count": null,
      "outputs": []
    },
    {
      "cell_type": "code",
      "source": [
        "import scipy.cluster.hierarchy as sch\n",
        "dendrogram = sch.dendrogram(sch.linkage(RFM, method = 'ward'))\n",
        "plt.title('Dendrogram',fontweight = 'bold')\n",
        "plt.xlabel('Customers',fontweight = 'bold')\n",
        "plt.ylabel('Euclidean Distances',fontweight = 'bold')\n",
        "plt.show()"
      ],
      "metadata": {
        "id": "IQYuCeBmVtzt"
      },
      "execution_count": null,
      "outputs": []
    },
    {
      "cell_type": "markdown",
      "source": [
        "Dendrogram is usually subjective as it differs based on viewer. However, we can specifically determine the clusters through a euclidean distance based threshold value. I am keeping the Threshold cut off of 50 euclidean."
      ],
      "metadata": {
        "id": "yThQJfleZDtc"
      }
    },
    {
      "cell_type": "code",
      "source": [
        "max_d = 50\n",
        "dendrogram = sch.dendrogram(sch.linkage(RFM, method = 'ward'))\n",
        "plt.axhline(y = max_d,c = 'k')\n",
        "plt.title('Dendrogram',fontweight = 'bold')\n",
        "plt.xlabel('Customers',fontweight = 'bold')\n",
        "plt.ylabel('Euclidean Distances',fontweight = 'bold')\n",
        "plt.show()"
      ],
      "metadata": {
        "id": "H5qnlr-AkcbJ"
      },
      "execution_count": null,
      "outputs": []
    },
    {
      "cell_type": "markdown",
      "source": [
        "Based on the cut-off we can decide to select 4 optimal clusters."
      ],
      "metadata": {
        "id": "CX-Tq1TTkiZR"
      }
    },
    {
      "cell_type": "markdown",
      "source": [
        "K-Means Clustering"
      ],
      "metadata": {
        "id": "3cNU2vPMklrk"
      }
    },
    {
      "cell_type": "code",
      "source": [
        "from sklearn.cluster import KMeans"
      ],
      "metadata": {
        "id": "XEAnKXeeknyg"
      },
      "execution_count": null,
      "outputs": []
    },
    {
      "cell_type": "code",
      "source": [
        "#elbow plot\n",
        "from yellowbrick.cluster import KElbowVisualizer\n",
        "model = KMeans()\n",
        "# k is range of number of clusters.\n",
        "visualizer = KElbowVisualizer(model, k=(2,15), timings= True)\n",
        "visualizer.fit(RFM)        # Fit data to visualizer\n",
        "visualizer.show()"
      ],
      "metadata": {
        "id": "x151gtb8kq1S"
      },
      "execution_count": null,
      "outputs": []
    },
    {
      "cell_type": "markdown",
      "source": [
        "The elbow point is achieved with 5 clusters which is highlighted by the function itself. The function also informs us about how much time was needed to plot models for various numbers of clusters through the green line."
      ],
      "metadata": {
        "id": "oiN7uBBVk06L"
      }
    },
    {
      "cell_type": "code",
      "source": [
        "# Silhouette Score for K means\n",
        "# Import ElbowVisualizer\n",
        "model = KMeans()\n",
        "# k is range of number of clusters.\n",
        "visualizer = KElbowVisualizer(model, k=(2,15),metric='silhouette', timings= True)\n",
        "visualizer.fit(RFM)        # Fit the data to the visualizer\n",
        "visualizer.show()  "
      ],
      "metadata": {
        "id": "5S-jUJS4k42M"
      },
      "execution_count": null,
      "outputs": []
    },
    {
      "cell_type": "markdown",
      "source": [
        "The Silhouette Coefficient(SC) tells us if individual points are correctly assigned to their clusters. We can use the following thumb rules while using Silhouette Coefficient:\n",
        "\n",
        "1.SC close to 0 means that the point is between two clusters.\n",
        "\n",
        "2.If it is closer to -1, then we would be better off assigning it to the other clusters.\n",
        "\n",
        "3.If SC is close to 1, then the point belongs to the ‘correct’ cluster.\n",
        "\n",
        "Here we can see the optimal clusters through siloutte method is 2."
      ],
      "metadata": {
        "id": "gUwQDSu5lIx1"
      }
    },
    {
      "cell_type": "code",
      "source": [
        "# Calinski Harabasz Score for K means\n",
        "# k is range of number of clusters.\n",
        "visualizer = KElbowVisualizer(model, k=(2,15),metric='calinski_harabasz', timings= True)\n",
        "visualizer.fit(RFM)        # Fit the data to the visualizer\n",
        "visualizer.show()        # Finalize and render the figure  "
      ],
      "metadata": {
        "id": "rFpOVOj6lO_E"
      },
      "execution_count": null,
      "outputs": []
    },
    {
      "cell_type": "markdown",
      "source": [
        "Calinski Harabasz Index is ideal when number of clusters is 2 for the K means clustering algorithm."
      ],
      "metadata": {
        "id": "EguUkxG5lTGh"
      }
    },
    {
      "cell_type": "code",
      "source": [
        "# Davies Bouldin score for K means\n",
        "from sklearn.datasets import load_iris\n",
        "from sklearn.metrics import davies_bouldin_score"
      ],
      "metadata": {
        "id": "IRcRJ8b5lfI1"
      },
      "execution_count": null,
      "outputs": []
    },
    {
      "cell_type": "code",
      "source": [
        "iris = load_iris()\n",
        "RFM = iris.data[:, :2]"
      ],
      "metadata": {
        "id": "bKEaBCYbliV8"
      },
      "execution_count": null,
      "outputs": []
    },
    {
      "cell_type": "code",
      "source": [
        "kmeans = KMeans(n_clusters=4, random_state=30)\n",
        "labels = kmeans.fit_predict(RFM)"
      ],
      "metadata": {
        "id": "PavC7xjylm30"
      },
      "execution_count": null,
      "outputs": []
    },
    {
      "cell_type": "code",
      "source": [
        "db_index = davies_bouldin_score(RFM, labels)\n",
        "print(db_index)"
      ],
      "metadata": {
        "id": "7ui2ARUZlqPC"
      },
      "execution_count": null,
      "outputs": []
    },
    {
      "cell_type": "code",
      "source": [
        "results = {}\n",
        "\n",
        "for i in range(2,11):\n",
        "    kmeans = KMeans(n_clusters=i, random_state=30)\n",
        "    labels = kmeans.fit_predict(RFM)\n",
        "    db_index = davies_bouldin_score(RFM, labels)\n",
        "    results.update({i: db_index})"
      ],
      "metadata": {
        "id": "_fLx6Y4LltKk"
      },
      "execution_count": null,
      "outputs": []
    },
    {
      "cell_type": "code",
      "source": [
        "plt.plot(list(results.keys()), list(results.values()))\n",
        "plt.xlabel(\"Number of clusters\")\n",
        "plt.ylabel(\"Davies-Boulding Index\")\n",
        "plt.show()"
      ],
      "metadata": {
        "id": "mFVCiZc1lwGn"
      },
      "execution_count": null,
      "outputs": []
    },
    {
      "cell_type": "markdown",
      "source": [
        "Davies Bouldin score is minimized with 3 clusters and can be considered for the k means algorithm\n",
        "\n"
      ],
      "metadata": {
        "id": "VvU7Jym-lzMg"
      }
    },
    {
      "cell_type": "code",
      "source": [
        "# BIC for GMM\n",
        "from sklearn.mixture import GaussianMixture\n",
        "n_components = range(1, 15)\n",
        "covariance_type = ['spherical', 'tied', 'diag', 'full']\n",
        "BICscore=[]\n",
        "for cov in covariance_type:\n",
        "    for n_comp in n_components:\n",
        "        gmm=GaussianMixture(n_components=n_comp,covariance_type=cov)\n",
        "        gmm.fit(RFM)\n",
        "        BICscore.append((cov,n_comp,gmm.bic(RFM)))\n",
        "BICscore"
      ],
      "metadata": {
        "id": "tnCv9OLQl0E1"
      },
      "execution_count": null,
      "outputs": []
    },
    {
      "cell_type": "markdown",
      "source": [
        "The lower the BIC score, better is the model.try out various combinations of the parameters and select the model with the lowest BIC score. Based on low average BIC scores on we can choose the optimal clusters to be 3 ."
      ],
      "metadata": {
        "id": "OQfCeznml7EM"
      }
    },
    {
      "cell_type": "markdown",
      "source": [
        "# **SUMMARY**"
      ],
      "metadata": {
        "id": "5d-2Wb_jl9Sh"
      }
    },
    {
      "cell_type": "code",
      "source": [
        "dictr = {\"Model_Name\":[\"Hierachicalclustering-Dendrogram \",\"KMeans-Distortion score Elbow method  \", \"KMeans-Silhouette\",\"KMeans-Calinski Harbasz score\",\"KMeans-Davies Bouldin score\",\"BIC-GMM \"],\n",
        "  \"Data\":[\"RFM\", \"RFM\", \"RFM\",\"RFM\",\"RFM\",\"RFM\"],\n",
        "  \"Optimal_Number_of_cluster\":[4,6,2,2,3,3]}"
      ],
      "metadata": {
        "id": "cZ9PSH-RmBBl"
      },
      "execution_count": null,
      "outputs": []
    },
    {
      "cell_type": "code",
      "source": [
        "Summary = pd.DataFrame(dictr)"
      ],
      "metadata": {
        "id": "faFovHrgmENV"
      },
      "execution_count": null,
      "outputs": []
    },
    {
      "cell_type": "code",
      "source": [
        "Summary.head(6)"
      ],
      "metadata": {
        "id": "nmM5OAT5mHOA"
      },
      "execution_count": null,
      "outputs": []
    },
    {
      "cell_type": "markdown",
      "source": [
        "Multiple techniques to detect optimal clusters shows varied results. We can take mean value(3.33) as the number of clusters,3"
      ],
      "metadata": {
        "id": "qLSmACNNmLDU"
      }
    },
    {
      "cell_type": "markdown",
      "source": [
        "K=3 have optimal score. Let's visualize these clusters.\n",
        "\n"
      ],
      "metadata": {
        "id": "gS6jqCzEmSlm"
      }
    },
    {
      "cell_type": "code",
      "source": [
        "RFM.shape"
      ],
      "metadata": {
        "id": "MDiXEn6gmpWm"
      },
      "execution_count": null,
      "outputs": []
    },
    {
      "cell_type": "code",
      "source": [
        "Clusters = KMeans(n_clusters=3, random_state=1)\n",
        "cluster_labels = Clusters.fit_predict(RFM)"
      ],
      "metadata": {
        "id": "q2OvRc_HnTLh"
      },
      "execution_count": null,
      "outputs": []
    },
    {
      "cell_type": "code",
      "source": [
        "fig = plt.figure(figsize=(8,8))\n",
        "ax = Axes3D(fig)\n",
        "x = RFM['Recency']\n",
        "y = RFM['Frequency']\n",
        "z = RFM['Monetary']\n",
        "colors = cm.nipy_spectral(cluster_labels.astype(float) / 3)\n",
        "ax.scatter(x, y, z, c=colors, marker='.')\n",
        "ax.set_xlabel('Recency')\n",
        "ax.set_ylabel('Frequency')\n",
        "ax.set_zlabel('Monetary')\n",
        "plt.title(\"Data Visualization\", size=25)"
      ],
      "metadata": {
        "id": "C3JzJl0262-q"
      },
      "execution_count": null,
      "outputs": []
    },
    {
      "cell_type": "code",
      "source": [
        "# add cluster label as varable\n",
        "RFM['Cluster'] = cluster_labels\n",
        "RFM.head()"
      ],
      "metadata": {
        "id": "ZbnBFSwlnpz5"
      },
      "execution_count": null,
      "outputs": []
    },
    {
      "cell_type": "code",
      "source": [
        "# add cluster label as varable\n",
        "RFM['Cluster'] = cluster_labels\n",
        "RFM.head()"
      ],
      "metadata": {
        "id": "rHjhpNrb4-ny"
      },
      "execution_count": null,
      "outputs": []
    },
    {
      "cell_type": "code",
      "source": [
        "RFMfinal = RFM.groupby('Cluster').mean()"
      ],
      "metadata": {
        "id": "ZVeDpqd0n3EP"
      },
      "execution_count": null,
      "outputs": []
    },
    {
      "cell_type": "code",
      "source": [
        "RFMfinal= RFMfinal.applymap(np.exp)\n",
        "RFMfinal = RFMfinal.applymap(int)\n",
        "RFMfinal"
      ],
      "metadata": {
        "id": "q6Zcledc_BHs"
      },
      "execution_count": null,
      "outputs": []
    },
    {
      "cell_type": "code",
      "source": [
        "DICTC = {\"CLUSTER\":[\"0\",\"1\", \"2\"],\n",
        "  \"Intepretation\":[\"At par recency,frequency and monetary spending\", \"most recent and frequent transaction and high monetary spending\", \"No recent or frequent transaction with least monetary spending\"],\n",
        "  \"Optimal_Number_of_cluster\":['MODERATELY LOYAL CUSTOMERS','LOYAL(TARGET)CUSTOMERS','AT RISK CUSTOMERS']}"
      ],
      "metadata": {
        "id": "qrGzHxxY-qQ8"
      },
      "execution_count": null,
      "outputs": []
    },
    {
      "cell_type": "code",
      "source": [
        "InterpretationSummary = pd.DataFrame(DICTC)"
      ],
      "metadata": {
        "id": "R5H6-9q8CJc2"
      },
      "execution_count": null,
      "outputs": []
    },
    {
      "cell_type": "code",
      "source": [
        "InterpretationSummary.head()"
      ],
      "metadata": {
        "id": "e2dcxC4tCgzk"
      },
      "execution_count": null,
      "outputs": []
    }
  ]
}